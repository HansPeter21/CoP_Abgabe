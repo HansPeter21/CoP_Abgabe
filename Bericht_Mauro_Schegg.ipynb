{
 "cells": [
  {
   "cell_type": "markdown",
   "metadata": {},
   "source": [
    "# Projektaufabe Wärmeleitung von Mauro Schegg"
   ]
  },
  {
   "cell_type": "markdown",
   "metadata": {},
   "source": [
    "**Erstellt am:** \n",
    "- 19.11.2024\n",
    "\n",
    "**Die zwei Simulationsparameter:**\n",
    "- $r_i = 2.5~cm, r_a  = 4.5~cm$"
   ]
  },
  {
   "cell_type": "markdown",
   "metadata": {},
   "source": [
    "## 1. Rohr-Isolation:"
   ]
  },
  {
   "cell_type": "markdown",
   "metadata": {},
   "source": [
    "**Geg.:**\n",
    "- $r_i = 0.025~\\text{m}$ Innenradius\n",
    "\n",
    "- $r_a  = 0.045~\\text{m}$ Aussenradius\n",
    "\n",
    "- $T(r_i) = T_i = 80~\\text{°C}$ Dirichlet innen\n",
    "\n",
    "- $T_a = 20~\\text{°C}$ Konvektion aussen\n",
    "\n",
    "- $h = 5~\\frac{\\text{W}}{\\text{m}^2 \\cdot \\text{K}}$ Wärmeübergangskoeffizient\n",
    "\n",
    "- $k = 0.5~\\frac{\\text{W}}{\\text{m} \\cdot \\text{K}}$ Wärmeleitfähigkeit"
   ]
  },
  {
   "cell_type": "markdown",
   "metadata": {},
   "source": [
    "### Aufgabe 1 Handrechnung:"
   ]
  },
  {
   "cell_type": "markdown",
   "metadata": {},
   "source": [
    "**Geg.:**\n",
    "- $T(r)  = A~\\text{ln}(\\frac{r}{r_i}) + B$ \n",
    "- $r = [r_i,r_a]$"
   ]
  },
  {
   "cell_type": "markdown",
   "metadata": {},
   "source": [
    "**Ges.:**\n",
    "- Lösung $T(r)$"
   ]
  },
  {
   "cell_type": "markdown",
   "metadata": {},
   "source": [
    "**Rechnung:**\n",
    "$$T(r_i)  = A*\\text{ln}(\\frac{r_i}{r_i})+B = 353~\\text{K} => B = 353~\\text{K}$$\n",
    "$$T(r_a)  = A*\\text{ln}(\\frac{r_a}{r_i})+ 353~\\text{K}$$\n",
    "\n",
    "Berechnung der Wärmestromdichten:\n",
    "$$q_{conv} = -h \\cdot (T_a-T(r_a))$$\n",
    "$$q_{cond} = -k \\cdot \\frac{\\partial{T}}{\\partial{r}}$$\n",
    "\n",
    "Berechnung von A:\n",
    "$$q_{cond}~|_{r_a} = q_{conv}$$\n",
    "$$-k \\cdot A \\cdot \\frac{1}{r_a} = -h(T_a-A*\\text{ln}(\\frac{r_a}{r_i})-353~\\text{K})$$\n",
    "$$A= \\frac{-h \\cdot 60~\\text{K}}{h \\cdot \\text{ln}(\\frac{r_a}{r_i})+\\frac{k}{r_a}} = -21.4~\\text{K}$$"
   ]
  },
  {
   "cell_type": "markdown",
   "metadata": {},
   "source": [
    "**Visualisierung:**\n"
   ]
  },
  {
   "cell_type": "code",
   "execution_count": null,
   "metadata": {},
   "outputs": [],
   "source": [
    "import matplotlib.pyplot as plt\n",
    "import numpy as np\n",
    "from matplotlib import cm\n",
    "\n",
    "fig, ax = plt.subplots(subplot_kw={\"projection\": \"3d\"})\n",
    "\n",
    "ri = 2.5  # Innenradius [cm]\n",
    "\n",
    "# Einstellungen für die Anzeige\n",
    "X = np.arange(-20, 20, 0.25)\n",
    "# Ohne null wegen des ln\n",
    "X = X[X != 0]\n",
    "Y = np.arange(-20, 20, 0.25)\n",
    "Y = Y[Y != 0]\n",
    "X, Y = np.meshgrid(X, Y)\n",
    "R = np.sqrt(X**2 + Y**2)\n",
    "T = np.log(R / ri)\n",
    "\n",
    "# Plot der Figur\n",
    "surf = ax.plot_surface(X, Y, T, cmap=cm.coolwarm, linewidth=0, antialiased=False)\n",
    "\n",
    "# A StrMethodFormatter is used automatically\n",
    "ax.zaxis.set_major_formatter(\"{x:.02f}\")\n",
    "\n",
    "ax.set_xlabel(\"$x~[cm]$\")\n",
    "ax.set_ylabel(\"$y~[cm]$\")\n",
    "ax.set_zlabel(\"T(r)\")\n",
    "plt.title(\"Plot von T(r) für A=1,B=0\")\n",
    "plt.show()"
   ]
  },
  {
   "cell_type": "markdown",
   "metadata": {},
   "source": [
    "Erkenntnis durch die Visualisierung: \n",
    "- Der natürliche Logarithmus würde das Problem für einen Radius gegen 0 unphysikalisch machen, da die Temperatur gegen minus unendlich gehen würde. Der Radius ist jedoch beim Innenradius begrenzt, was zu keinem Problem führt $\\text{ln}(1) = 0.$ "
   ]
  },
  {
   "cell_type": "markdown",
   "metadata": {},
   "source": [
    "**Lösung:**\n",
    "- $T(r) = -21.4~\\text{K} \\cdot \\text{ln}(\\frac{r}{r_i}) + 353.15~\\text{K}$"
   ]
  },
  {
   "cell_type": "code",
   "execution_count": null,
   "metadata": {},
   "outputs": [],
   "source": [
    "fig, ax = plt.subplots(subplot_kw={\"projection\": \"3d\"})\n",
    "\n",
    "ri = 0.025  # Innenradius [m]\n",
    "\n",
    "# Einstellungen für die Anzeige\n",
    "\n",
    "x1 = np.arange(0.025, 0.2, 0.001)\n",
    "x2 = np.arange(-0.20, -0.025, 0.001)\n",
    "\n",
    "y1 = np.arange(0.025, 0.2, 0.001)\n",
    "y2 = np.arange(-0.20, -0.025, 0.001)\n",
    "\n",
    "Y = np.concatenate([y2, y1])\n",
    "X = np.concatenate([x2, x1])\n",
    "X, Y = np.meshgrid(X, Y)\n",
    "R = np.sqrt(X**2 + Y**2)\n",
    "T = -21.4 * np.log(R / ri) + 80\n",
    "\n",
    "# Plot der Figur\n",
    "surf = ax.plot_surface(X, Y, T, cmap=cm.coolwarm, linewidth=0, antialiased=False)\n",
    "\n",
    "# A StrMethodFormatter is used automatically\n",
    "ax.zaxis.set_major_formatter(\"{x:.02f}\")\n",
    "\n",
    "ax.set_xlabel(\"$x~[m]$\")\n",
    "ax.set_ylabel(\"$y~[m]$\")\n",
    "ax.set_zlabel(\"T(r) °C\")\n",
    "plt.title(\"Temperaturabfall von T(r)\")\n",
    "plt.show()"
   ]
  },
  {
   "cell_type": "code",
   "execution_count": null,
   "metadata": {},
   "outputs": [],
   "source": [
    "T = lambda r: -21.4 *np.log(r/0.025)+80\n",
    "r = np.linspace(0.025,0.045)\n",
    "plt.plot(r*100,T(r))\n",
    "plt.grid()\n",
    "plt.ylabel(\"Temperatur [°C]\")\n",
    "plt.xlabel(\"Radius [cm]\")\n",
    "plt.title(\"Temperaturverlauf mit Handrechnung\")"
   ]
  },
  {
   "cell_type": "markdown",
   "metadata": {},
   "source": [
    "### Aufgabe 2 Comsol 1D Axialsymmetrisch:"
   ]
  },
  {
   "cell_type": "code",
   "execution_count": null,
   "metadata": {},
   "outputs": [],
   "source": [
    "# Einlesen der Daten mit pandas\n",
    "import pandas as pd\n",
    "df1 = pd.read_csv(\"Daten/Daten1D.csv\",sep=\";\")"
   ]
  },
  {
   "cell_type": "code",
   "execution_count": null,
   "metadata": {},
   "outputs": [],
   "source": [
    "plt.plot(df1[\"R\"]*100,df1[\"T\"])\n",
    "plt.ylabel(\"Temperatur [°C]\")\n",
    "plt.xlabel(\"Radius [cm]\")\n",
    "plt.grid()\n",
    "plt.title(\"Temperaturverlauf 1D Axialsymmetrisch\")"
   ]
  },
  {
   "cell_type": "markdown",
   "metadata": {},
   "source": [
    "### Aufgabe 3 Comsol 2D:"
   ]
  },
  {
   "cell_type": "code",
   "execution_count": null,
   "metadata": {},
   "outputs": [],
   "source": [
    "df2 = pd.read_csv(\"Daten/Daten2D.csv\",sep=\";\")"
   ]
  },
  {
   "cell_type": "code",
   "execution_count": null,
   "metadata": {},
   "outputs": [],
   "source": [
    "plt.plot(df2[\"R\"]*100,df2[\"T\"])\n",
    "plt.grid()\n",
    "plt.ylabel(\"Temperatur [°C]\")\n",
    "plt.xlabel(\"Radius [cm]\")\n",
    "plt.title(\"Temperaturverlauf 2D entlang einem radial Strich\")"
   ]
  },
  {
   "cell_type": "markdown",
   "metadata": {},
   "source": [
    "### Aufgabe 4 Vergleich der drei Kurven:"
   ]
  },
  {
   "cell_type": "code",
   "execution_count": null,
   "metadata": {},
   "outputs": [],
   "source": [
    "# Plot des Temperaturverlaufs der drei Bestimmungsweg zusammen\n",
    "plt.plot(df1[\"R\"]*100,df1[\"T\"],label=\"Temperaturverlauf 1D\")\n",
    "plt.plot(df2[\"R\"]*100,df2[\"T\"],label=\"Temperaturverlauf 2D\")\n",
    "plt.plot(r*100,T(r),linestyle=\"--\",label=\"Temperaturverlauf Handrechnung\")\n",
    "plt.grid()\n",
    "plt.ylabel(\"Temperatur [°C]\")\n",
    "plt.xlabel(\"Radius [cm]\")\n",
    "plt.title(\"Vergleich der drei Kurven\")\n",
    "plt.legend()"
   ]
  },
  {
   "cell_type": "code",
   "execution_count": null,
   "metadata": {},
   "outputs": [],
   "source": [
    "from sklearn.metrics import mean_squared_error, r2_score\n",
    "from scipy.interpolate import interp1d\n",
    "\n",
    "# Interpolieren von Daten1D auf die x-Werte von Daten2D\n",
    "interpolator = interp1d(df1[\"R\"], df1[\"T\"], kind='linear', fill_value='extrapolate')\n",
    "y1_interp = interpolator(df2[\"R\"])\n",
    "y1_interp = np.array(y1_interp)\n"
   ]
  },
  {
   "cell_type": "code",
   "execution_count": null,
   "metadata": {},
   "outputs": [],
   "source": [
    "# \n",
    "x1 = np.linspace(0.025,0.045,len(df1[\"R\"]))\n",
    "x2 = np.linspace(0.025,0.045,len(df2[\"R\"]))\n",
    "T1 = T(x1)\n",
    "T2 = T(x2)"
   ]
  },
  {
   "cell_type": "markdown",
   "metadata": {},
   "source": [
    "**Bestimmtheitsmass:**"
   ]
  },
  {
   "cell_type": "code",
   "execution_count": null,
   "metadata": {},
   "outputs": [],
   "source": [
    "# Vergleich 1D und 2D\n",
    "r21 = r2_score(y1_interp,df2[\"T\"])\n",
    "r21"
   ]
  },
  {
   "cell_type": "code",
   "execution_count": null,
   "metadata": {},
   "outputs": [],
   "source": [
    "# Vergleich Hand und 1D\n",
    "r22 = r2_score(T1,df1[\"T\"])\n",
    "r22"
   ]
  },
  {
   "cell_type": "code",
   "execution_count": null,
   "metadata": {},
   "outputs": [],
   "source": [
    "# Vergleich Hand und 2D\n",
    "r23 = r2_score(T2,df2[\"T\"])\n",
    "r23"
   ]
  },
  {
   "cell_type": "markdown",
   "metadata": {},
   "source": [
    "- Mann erkennt das die einzelnen Linien nicht voneinander zu unterscheiden sind.\n",
    "- Das hohe Bestimmtheitsmass sagt aus das die Linien einen sehr ähnlichen verlauf haben."
   ]
  },
  {
   "cell_type": "markdown",
   "metadata": {},
   "source": [
    "### Aufgabe 5:"
   ]
  },
  {
   "cell_type": "markdown",
   "metadata": {},
   "source": [
    "Fouriesches Gesetz:\n",
    "\n",
    "- $\\dot{Q} =  -k \\cdot F \\cdot \\frac{\\partial T}{\\partial r} $ Wärmefluss $[\\frac{W}{m}]$\n",
    "- $F(r) = 2 \\cdot \\pi \\cdot r \\cdot l$ $[m^2]$ Oberfläche durch die Wärme fliesst. \n",
    "Da der Wärmefluss konstant ist und die Oberfläche sich mit r ändert muss die Temperaturänderung $\\frac{\\partial T}{\\partial r}$ von innen nach aussen mit $\\frac{1}{r}$ abnehmen.\n",
    "\n",
    "$$\\partial T = \\frac{\\dot{Q}}{k\\cdot F}~\\partial r$$\n",
    "\n",
    "$$\\int_{T_i}^{T_2} 1 \\,dT  = \\int_{r_i}^{r_a} \\frac{-\\dot{Q}}{k 2 r \\pi l} \\, dr~\\text{mit}~\\dot{Q} = \\text{const.}, k = \\text{const.}$$\n",
    "\n",
    "$$\\Delta T = - \\frac{-\\dot{Q}}{2 r \\pi k l} (\\text{ln}(r_a)-\\text{ln}(r_i))$$\n",
    "\n",
    "$$\n",
    "\\dot{Q} = -\\frac{2 \\pi k l \\Delta T}{\\ln\\left(\\frac{r_a}{r_i}\\right)}\n",
    "$$\n",
    "\n",
    "**Wärmefluss pro m:** (mit l = 1m dividieren)\n",
    "$$\n",
    "q_r = -\\frac{2 \\pi k \\Delta T}{\\ln\\left(\\frac{r_a}{r_i}\\right)}\n",
    "$$\n"
   ]
  },
  {
   "cell_type": "markdown",
   "metadata": {},
   "source": [
    "Wie so ist $\\dot{Q} = \\text{const.}$?\n",
    "- Wenn der Wärmefluss durch die einzelnen Zwischenebenen unten in der Abbildung ersichtlich nicht konstant wäre, so würde es zu einer Abkühlung oder Erwärmung einzelner Ebenen führen. Was bedeuteten würde das Problem ist nicht mehr stationär wäre."
   ]
  },
  {
   "cell_type": "markdown",
   "metadata": {},
   "source": [
    "![Alternativtext](./Bilder/Zwischeneben.png)\n",
    "\n",
    "[Quelle für das Bild:](https://www.tec-science.com/de/thermodynamik-waermelehre/waerme/temperaturverlaufe-und-warmestrome-durch-verschiedene-geometrien/)"
   ]
  },
  {
   "cell_type": "markdown",
   "metadata": {},
   "source": [
    "#### Analytisch:"
   ]
  },
  {
   "cell_type": "code",
   "execution_count": null,
   "metadata": {},
   "outputs": [],
   "source": [
    "ri = 0.025 # [m] Innendurchmesser\n",
    "h = 5 # [W/(m^2*K)] Wärmeübertragungskoeffizient\n",
    "Ti = 353.15 # [K] Randbedingung innen\n",
    "Ta = 293.15 # [K] Umgebungdtemperatur\n",
    "k = 0.5 # [W/(m*K)] Wärmeleitfähigkeit"
   ]
  },
  {
   "cell_type": "markdown",
   "metadata": {},
   "source": [
    "- $A = \\frac{-h \\cdot 60}{h \\cdot \\text{ln}(\\frac{r_a}{r_i})+\\frac{k}{r_a} }$\n",
    "\n",
    "- $ q =  \\frac{-k \\cdot A}{r_a}$\n",
    "\n",
    "- $\n",
    "q_r = \\frac{2 \\pi k \\Delta T}{\\ln\\left(\\frac{r_a}{r_i}\\right)}\n",
    "$\n",
    "\n",
    "- $\\Delta{T} = A \\cdot \\text{ln}(\\frac{r_a}{r_i}) $\n"
   ]
  },
  {
   "cell_type": "code",
   "execution_count": null,
   "metadata": {},
   "outputs": [],
   "source": [
    "# Funktion für die Berechnung von A für ein ra\n",
    "A_cal = lambda ra: (-h*60)/(h*np.log(ra/ri)+k/ra) \n",
    "\n",
    "# Funktion für die Berechnung der Wärmestromdichte mit ra und A\n",
    "q_cal = lambda A,ra: -k*A/ra\n",
    "\n",
    "# Wärmefluss pro Längeneinheit\n",
    "qr_dot_cal = lambda delT,ra: -2*np.pi*delT*k/(np.log(ra/ri))\n",
    "\n",
    "# Berechnug der Temperaturdifferenz\n",
    "delT_cal = lambda A,ra: A*np.log(ra/ri)\n",
    "\n",
    "# ra von 0.0251 m bis 0.2 m\n",
    "ra = np.linspace(0.0251,0.2,1000)\n",
    "\n",
    "# Bestimmung der Werte\n",
    "A = A_cal(ra)\n",
    "\n",
    "delT = delT_cal(A,ra)\n",
    "\n",
    "qr_dot = qr_dot_cal(delT,ra)\n",
    "\n",
    "q = q_cal(A,ra)"
   ]
  },
  {
   "cell_type": "code",
   "execution_count": null,
   "metadata": {},
   "outputs": [],
   "source": [
    "\"\"\"\n",
    "plt.plot(ra*100,q,label=\"Wärmestromdichte\")\n",
    "plt.ylabel(\"Wärmestromdichte [W/m^2]\")\n",
    "plt.xlabel(\"Aussenradius ra [cm] \")\n",
    "plt.vlines(ymin=52,ymax=330,x=2.5,linestyles=\"--\",colors=\"red\",label=\"Innenradius ri\")\n",
    "plt.title(\"Wärmestromdichte abhängig von der Isolationsdicke\")\n",
    "plt.legend()\n",
    "plt.grid()\n",
    "\"\"\""
   ]
  },
  {
   "cell_type": "code",
   "execution_count": null,
   "metadata": {},
   "outputs": [],
   "source": [
    "plt.plot(ra*100,qr_dot)\n",
    "plt.ylabel(\"Wärmefluss [W/m]\")\n",
    "plt.xlabel(\"Aussenradius ra [cm] \")\n",
    "plt.title(\"Wärmefluss abhängig von der Isolationsdicke\")\n",
    "plt.grid()"
   ]
  },
  {
   "cell_type": "markdown",
   "metadata": {},
   "source": [
    "### Aufgabe 6:"
   ]
  },
  {
   "cell_type": "markdown",
   "metadata": {},
   "source": [
    "- $L = \\frac{\\text{Volumen}}{\\text{Oberfläche durch die Wärme Strömt}} = \\frac{r^2 \\cdot \\pi \\cdot l}{2 \\cdot r\\cdot \\pi \\cdot l } = \\frac{r}{2}$\n",
    "\n",
    "**Berechnungsart 1:**\n",
    "- $Bi = \\frac{h \\cdot L}{k} = \\frac{h \\cdot \\frac{r_a}{2}}{k}$\n",
    "\n",
    "**Berechnugsart 2:**\n",
    "Das Problem hier ist das die Biotzahl auch durch.\n",
    "- $Bi = \\frac{R_{th}}{R_s}$ definiert ist. Wobei $R_{th}$ der Wärmewiderstand in $[\\frac{K}{W}]$ und $R_s$ der Wärmeübergangswiderstand in $[\\frac{K}{W}]$ sind.\n",
    "$$R_{th} = \\frac{\\text{ln}(r_a/r_i)}{2 \\pi L k}$$\n",
    "$$R_s = \\frac{1}{2 \\pi r_a L h}$$\n",
    "Daraus würde sich die Biot-Zahl\n",
    "$$Bi = \\frac{\\text{ln}(r_a/r_i) \\cdot r_a \\cdot h}{k}$$\n",
    "\n",
    "\n",
    "**Biot-Zahl:**\n",
    "- Die Biot-Zahl gibt bei Wärmetransport durch die Oberfläche das Verhältnis des Wärme(leit)widerstandes des Körpers zum Wärmeübergangswiderstand des umgebenden Mediums an. \n",
    "- Bi < 1: Konvektion ist dominant;\n",
    "- Bi ≈ 1: keine dominante Wärmeübertragung;\n",
    "- Bi > 1: Wärmeleitung ist dominant.\n"
   ]
  },
  {
   "cell_type": "markdown",
   "metadata": {},
   "source": [
    "**Bestimmung der Charakteristischen Länge:**\n",
    "- "
   ]
  },
  {
   "cell_type": "code",
   "execution_count": null,
   "metadata": {},
   "outputs": [],
   "source": [
    "# ra von 0.0251 m bis 0.3708086 m\n",
    "ra2 = np.linspace(0.0251,2*1,1000)\n",
    "\n",
    "# Charakteristische Länge (Maximale Temperaturdifferenz)\n",
    "L = ra2\n",
    "\n",
    "# Berechnung der Biot-Zahl \n",
    "Bi_cal = lambda L: h*(L/2)/k\n",
    "Bi = Bi_cal(L)\n",
    "Bi[-1]"
   ]
  },
  {
   "cell_type": "code",
   "execution_count": null,
   "metadata": {},
   "outputs": [],
   "source": [
    "plt.plot(ra2*100,Bi)\n",
    "plt.ylabel(\"Biot Zahl\")\n",
    "plt.xlabel(\"Aussenradius ra [cm] \")\n",
    "plt.title(\"Biot-Zahl abhängig von L\")\n",
    "plt.grid()"
   ]
  },
  {
   "cell_type": "code",
   "execution_count": null,
   "metadata": {},
   "outputs": [],
   "source": [
    "A2 = A_cal(ra2)\n",
    "delT2 = delT_cal(A2,ra2)"
   ]
  },
  {
   "cell_type": "code",
   "execution_count": null,
   "metadata": {},
   "outputs": [],
   "source": [
    "# Wärmefluss pro Längeneinheit mit Biot-Zahl\n",
    "qr_dot_cal2 = lambda delT,ra,Bi: (-delT*2*np.pi*ra*h)/Bi\n",
    "qr_dot2 = qr_dot_cal2(delT2,ra2,Bi)"
   ]
  },
  {
   "cell_type": "code",
   "execution_count": null,
   "metadata": {},
   "outputs": [],
   "source": [
    "plt.plot(ra2*100,qr_dot2)\n",
    "plt.ylabel(\"Wärmefluss [W/m]\")\n",
    "plt.xlabel(\"Aussenradius ra [cm] \")\n",
    "plt.title(\"Wärmefluss abhängig von der Isolationsdicke mit Biot-Zahl\")\n",
    "plt.grid()"
   ]
  },
  {
   "cell_type": "markdown",
   "metadata": {},
   "source": [
    "### Aufgabe 7:"
   ]
  },
  {
   "cell_type": "code",
   "execution_count": null,
   "metadata": {},
   "outputs": [],
   "source": [
    "# Bestimmen des Minimums mit Aufgabe 6:\n",
    "maxQ2 = np.max(qr_dot2)\n",
    "index = np.argmax(qr_dot2)+25\n",
    "maxQ2"
   ]
  },
  {
   "cell_type": "code",
   "execution_count": null,
   "metadata": {},
   "outputs": [],
   "source": [
    "plt.plot(ra2*100,qr_dot2)\n",
    "plt.plot(0.1*index,maxQ2,\"*\")\n",
    "plt.ylabel(\"Wärmefluss [W/m]\")\n",
    "plt.xlabel(\"Aussenradius ra [cm] \")\n",
    "plt.title(\"Bestimmung maximaler Wärmefluss\")\n",
    "plt.grid()"
   ]
  },
  {
   "cell_type": "markdown",
   "metadata": {},
   "source": [
    "- Der maximale Wärmefluss mit 79 $[\\frac{W}{m}]$  bei $r_a = 10~\\text{[cm]}$ "
   ]
  },
  {
   "cell_type": "markdown",
   "metadata": {},
   "source": [
    "#### Überprüfung:\n",
    "Wiso entsteht dieser Kritische Radius?:\n",
    "- Je dicker die Isolation desto besser ist die Isolation, aber auch die Oberfläche wächst mit der Dicke der Isolation $\\rarr$ höhere Konvektion.\n",
    "$$R = (\\frac{\\text{ln}(r_a/r_i)}{2 \\pi L k}+\\frac{1}{2 \\pi r_a L h})~\\text{Wärmewiderstand}$$ \n",
    "**Extremstelle Aufsuchen:**\n",
    "$$\\frac{\\partial R}{\\partial r_a} = 0 \\rarr r_{krit} = \\frac{k}{h} = 0.1~\\text{m} = 10~\\text{cm} $$\n",
    "[Quelle der Formel](https://n.ethz.ch/~jgeurts/dateien/zusammenfassungen/Thermodynamik_II_Zusammenfassung.pdf)"
   ]
  }
 ],
 "metadata": {
  "kernelspec": {
   "display_name": ".venv",
   "language": "python",
   "name": "python3"
  },
  "language_info": {
   "codemirror_mode": {
    "name": "ipython",
    "version": 3
   },
   "file_extension": ".py",
   "mimetype": "text/x-python",
   "name": "python",
   "nbconvert_exporter": "python",
   "pygments_lexer": "ipython3",
   "version": "3.13.0"
  }
 },
 "nbformat": 4,
 "nbformat_minor": 2
}

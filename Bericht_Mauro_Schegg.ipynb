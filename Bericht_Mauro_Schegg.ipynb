{
 "cells": [
  {
   "cell_type": "markdown",
   "metadata": {},
   "source": [
    "# Projektaufgabe Wärmeleitung von Mauro Schegg und Rino Albertin:"
   ]
  },
  {
   "cell_type": "markdown",
   "metadata": {},
   "source": [
    "**Erstellt am:** \n",
    "- 19.11.2024\n",
    "\n",
    "**Die zwei Simulationsparameter:**\n",
    "- $r_i = 2.5~\\text{cm}, r_a  = 4.5~\\text{cm}$"
   ]
  },
  {
   "cell_type": "markdown",
   "metadata": {},
   "source": [
    "# 1. Rohrisolation:"
   ]
  },
  {
   "cell_type": "markdown",
   "metadata": {},
   "source": [
    "**Geg.:**\n",
    "- $r_i = 0.025~\\text{m}$ Innenradius\n",
    "\n",
    "- $r_a  = 0.045~\\text{m}$ Aussenradius\n",
    "\n",
    "- $T(r_i) = T_i = 80~\\text{°C}$ Dirichlet-Randbedingung an der Innenseite\n",
    "\n",
    "- $T_a = 20~\\text{°C}$ Lufttemperatur an der Aussenseite (Robin-Randbedingung)\n",
    "\n",
    "- $h = 5~\\frac{\\text{W}}{\\text{m}^2 \\cdot \\text{K}}$ Wärmeübergangskoeffizient\n",
    "\n",
    "- $k = 0.5~\\frac{\\text{W}}{\\text{m} \\cdot \\text{K}}$ Wärmeleitfähigkeit"
   ]
  },
  {
   "cell_type": "markdown",
   "metadata": {},
   "source": [
    "## Aufgabe 1 Handrechnung:"
   ]
  },
  {
   "cell_type": "markdown",
   "metadata": {},
   "source": [
    "**Geg.:**\n",
    "- $T(r)  = A~\\text{ln}(\\frac{r}{r_i}) + B$ \n",
    "- $r = [r_i,r_a] = [0.025~\\text{m},0.045~\\text{m}] $"
   ]
  },
  {
   "cell_type": "markdown",
   "metadata": {},
   "source": [
    "**Ges.:**\n",
    "- Lösung $T(r)$"
   ]
  },
  {
   "cell_type": "markdown",
   "metadata": {},
   "source": [
    "**Visualisierung:**"
   ]
  },
  {
   "cell_type": "code",
   "execution_count": null,
   "metadata": {},
   "outputs": [
    {
     "ename": "",
     "evalue": "",
     "output_type": "error",
     "traceback": [
      "\u001b[1;31mRunning cells with 'Python 3.12.7' requires the ipykernel package.\n",
      "\u001b[1;31mRun the following command to install 'ipykernel' into the Python environment. \n",
      "\u001b[1;31mCommand: 'c:/Users/rinoa/AppData/Local/Programs/Python/Python312/python.exe -m pip install ipykernel -U --user --force-reinstall'"
     ]
    }
   ],
   "source": [
    "import matplotlib.pyplot as plt\n",
    "import numpy as np\n",
    "from matplotlib import cm\n",
    "\n",
    "fig, ax = plt.subplots(subplot_kw={\"projection\": \"3d\"}, figsize=(7, 7))\n",
    "\n",
    "ri = 2.5  # Innenradius [cm]\n",
    "\n",
    "# Einstellungen für die Anzeige\n",
    "X = np.arange(-20, 20, 0.25)\n",
    "# Ohne null wegen des ln\n",
    "X = X[X != 0]\n",
    "Y = np.arange(-20, 20, 0.25)\n",
    "Y = Y[Y != 0]\n",
    "X, Y = np.meshgrid(X, Y)\n",
    "R = np.sqrt(X**2 + Y**2)\n",
    "T = np.log(R / ri)\n",
    "\n",
    "# Plot der Figur\n",
    "surf = ax.plot_surface(X, Y, T, cmap=cm.coolwarm, linewidth=0, antialiased=False)\n",
    "\n",
    "# A StrMethodFormatter is used automatically\n",
    "ax.zaxis.set_major_formatter(\"{x:.02f}\")\n",
    "ax.zaxis.label.set_rotation(90)\n",
    "\n",
    "ax.set_xlabel(\"$x~[cm]$\")\n",
    "ax.set_ylabel(\"$y~[cm]$\")\n",
    "ax.set_zlabel(\"T(r) °C\")\n",
    "plt.title(\"Plot von T(r) für A=1,B=0\")"
   ]
  },
  {
   "cell_type": "markdown",
   "metadata": {},
   "source": [
    "**Erkenntnis durch die Visualisierung:**\n",
    "- Der natürliche Logarithmus würde die Funktion für einen Radius gegen 0 unphysikalisch machen, da die Temperatur gegen minus unendlich gehen würde. Der Radius ist jedoch beim Innenradius begrenzt, was zu keinem Problem führt $\\text{ln}(1) = 0.$ "
   ]
  },
  {
   "cell_type": "markdown",
   "metadata": {},
   "source": [
    "**Rechnung:**\n",
    "\n",
    "Berechnung von B mit Randbedingung 1:\n",
    "\n",
    "$$\\text{RB1:}~T(r_i) = 353~\\text{K} $$\n",
    "$$T(r_i)  = A \\cdot \\text{ln}(\\frac{r_i}{r_i})+B = 353~\\text{K} => B = 353~\\text{K}$$\n",
    "$$T(r_a)  = A \\cdot\\text{ln}(\\frac{r_a}{r_i})+ 353~\\text{K}$$\n",
    "\n",
    "Berechnung der Wärmestromdichten:\n",
    "$$q_{conv} = -h \\cdot (T_a-T(r_a))$$\n",
    "$$q_{cond} = -k \\cdot \\frac{\\partial{T}}{\\partial{r}}$$\n",
    "\n",
    "Berechnung von A für $r_a = 0.045~\\text{m}$ mit Randbedingung 2:\n",
    "$$\\text{RB2:}~q_{cond}~|_{r_a} = q_{conv} $$\n",
    "$$-k \\cdot \\frac{\\partial{T}}{\\partial{r}}~|_{r_a} = -h(T_a-T(r_a)) $$\n",
    "$$-k \\cdot A \\cdot \\frac{1}{r_a} = -h(T_a-A \\cdot\\text{ln}(\\frac{r_a}{r_i})-353~\\text{K})$$\n",
    "$$A= \\frac{-h \\cdot 60~\\text{K}}{h \\cdot \\text{ln}(\\frac{r_a}{r_i})+\\frac{k}{r_a}} = -21.4~\\text{K}$$"
   ]
  },
  {
   "cell_type": "markdown",
   "metadata": {},
   "source": [
    "**Lösung:**\n",
    "- $T(r) = -21.4~\\text{K} \\cdot \\text{ln}(\\frac{r}{r_i}) + 353.15~\\text{K}$"
   ]
  },
  {
   "cell_type": "markdown",
   "metadata": {},
   "source": [
    "**Visualisierung der Lösung:**"
   ]
  },
  {
   "cell_type": "code",
   "execution_count": null,
   "metadata": {},
   "outputs": [],
   "source": [
    "import numpy as np\n",
    "import matplotlib.pyplot as plt\n",
    "from matplotlib import cm\n",
    "\n",
    "fig, ax = plt.subplots(subplot_kw={\"projection\": \"3d\"}, figsize=(7, 7))\n",
    "\n",
    "# Innen- und Außenradius\n",
    "ri = 0.025  # Innenradius [m]\n",
    "ra = 0.045  # Außenradius [m]\n",
    "\n",
    "# Polarkoordinaten\n",
    "theta = np.linspace(0, 2 * np.pi, 500)  # Winkel von 0 bis 2π\n",
    "r = np.linspace(ri, ra, 500)  # Radialer Bereich von ri bis ra\n",
    "\n",
    "# Meshgrid für Polarkoordinaten\n",
    "R, THETA = np.meshgrid(r, theta)\n",
    "\n",
    "# Umwandlung in kartesische Koordinaten\n",
    "X = R * np.cos(THETA)\n",
    "Y = R * np.sin(THETA)\n",
    "\n",
    "# Berechnung des Radius R und der Temperatur T(r)\n",
    "T = -21.4 * np.log(R / ri) + 80 \n",
    "\n",
    "# Plot der Oberfläche\n",
    "surf = ax.plot_surface(X * 100, Y * 100, T, cmap=cm.coolwarm, linewidth=0, antialiased=False)\n",
    "\n",
    "# Achsenformatierung\n",
    "ax.zaxis.set_major_formatter(\"{x:.02f}\")\n",
    "ax.set_xlabel(\"$x~[cm]$\")\n",
    "ax.set_ylabel(\"$y~[cm]$\")\n",
    "ax.set_zlabel(\"T(r) °C\")\n",
    "plt.title(\"Temperaturabfall von T(r)\")\n",
    "\n",
    "# Symmetrische Achsenlimits\n",
    "ax.set_xlim([-5, 5])  # x-Achse in cm\n",
    "ax.set_ylim([-5, 5])  # y-Achse in cm\n",
    "ax.set_box_aspect([1, 1, 0.7])  # Seitenverhältnis für X, Y, Z\n"
   ]
  },
  {
   "cell_type": "code",
   "execution_count": null,
   "metadata": {},
   "outputs": [],
   "source": [
    "T = lambda r: -21.4 *np.log(r/0.025)+80\n",
    "r = np.linspace(0.025,0.045)\n",
    "plt.plot(r*100,T(r))\n",
    "plt.grid()\n",
    "plt.ylabel(\"Temperatur [°C]\")\n",
    "plt.xlabel(\"Radius [cm]\")\n",
    "plt.title(\"Temperaturverlauf mit Handrechnung\")"
   ]
  },
  {
   "cell_type": "markdown",
   "metadata": {},
   "source": [
    "#### Beobachtung bei der Exploration:"
   ]
  },
  {
   "cell_type": "markdown",
   "metadata": {},
   "source": [
    "Bei dem Versuch für grössere $r_a$ den Temperaturverlauf mit der Formel\n",
    "$$T(r) = -21.4~\\text{K} \\cdot \\text{ln}(\\frac{r}{r_i}) + 353.15~\\text{K}$$ \n",
    "zu berechnen wurde erkannt, dass die Temperatur für grosse $r_a$ unter $T_a$ sinkt, dies würde in der Realität nicht passieren. Wird $T(r)$ bei $r_a = 1~\\text{m}$ berechnet ist die Lösung $T(r) = -15.8358 \\cdot \\text{ln}(\\frac{r_a}{r_i})+353.15~\\text{K}.$ Dieses Verhalten wird im nachfolgenden Plot visualisiert. "
   ]
  },
  {
   "cell_type": "code",
   "execution_count": null,
   "metadata": {},
   "outputs": [],
   "source": [
    "# T(r) beim Arbeitspunkt ra = 1 m\n",
    "T1m = lambda r: -15.8358 *np.log(r/0.025)+80\n",
    "# T(r) beim Arbeitspunkt ra = 0.5 m\n",
    "T5 = lambda r: -18.775 *np.log(r/0.025)+80\n",
    "# T(r) beim Arbeitspunkt ra = 0.75 m\n",
    "T75 = lambda r: -16.9754 *np.log(r/0.025)+80\n",
    "# T(r) beim Arbeitspunkt ra = 0.1 m\n",
    "T01 = lambda r: -25.1436 *np.log(r/0.025)+80\n",
    "\n",
    "# ra von ri bis 1m\n",
    "r1 = np.linspace(0.025,1)\n",
    "plt.plot(r1*100,T1m(r1),label=\"T(r) ra = 1m\")\n",
    "plt.plot(r1*100,T75(r1),label=\"T(r) ra = 0.75m\")\n",
    "plt.plot(r1*100,T5(r1),label=\"T(r) ra = 0.5m\")\n",
    "plt.plot(r1*100,T01(r1),label=\"T(r) ra = 0.1m\")\n",
    "plt.plot(r1*100,T(r1),label=\"T(r) ra = 0.045m\")\n",
    "plt.hlines(y=20,xmin=0,xmax=100,colors=\"red\",linestyles=\"--\",label=f\"Ta = 20°C\")\n",
    "# Ausgabe der Randtemperatur.\n",
    "print(f\"Die Temperatur bei AP = 1m am Rand ist {round(min(T1m(r1)),3)}°C\")\n",
    "plt.grid()\n",
    "plt.ylabel(\"Temperatur [°C]\")\n",
    "plt.xlabel(\"Radius [cm]\")\n",
    "plt.title(\"Temperaturverläufe mit Handrechnungen\")\n",
    "plt.legend()"
   ]
  },
  {
   "cell_type": "markdown",
   "metadata": {},
   "source": [
    "**Vergleich dieser Beobachtung mit Comsol:**"
   ]
  },
  {
   "cell_type": "code",
   "execution_count": null,
   "metadata": {},
   "outputs": [],
   "source": [
    "import pandas as pd\n",
    "# Daten Comsol für 1m\n",
    "df1m = pd.read_csv(\"Daten/Rohrisolation/Data_A1_Arbeitspunkt.csv\",sep=\",\")"
   ]
  },
  {
   "cell_type": "code",
   "execution_count": null,
   "metadata": {},
   "outputs": [],
   "source": [
    "# Werte für den Aussenradius 1m\n",
    "TA1m = df1m[\"T (degC)\"]\n",
    "x1m = len(TA1m)\n",
    "r1m = np.linspace(0.025,1,x1m)"
   ]
  },
  {
   "cell_type": "code",
   "execution_count": null,
   "metadata": {},
   "outputs": [],
   "source": [
    "# Daten Comsol für 0.5m\n",
    "df05m = pd.read_csv(\"Daten/Rohrisolation/Data_A1_Arbeitspunkt05.csv\",sep=\",\")"
   ]
  },
  {
   "cell_type": "code",
   "execution_count": null,
   "metadata": {},
   "outputs": [],
   "source": [
    "# Werte für den Aussenradius 0.5m\n",
    "TA05m = df05m[\"T (degC)\"]\n",
    "x05m = len(TA05m)\n",
    "r05m = np.linspace(0.025,0.5,x05m)"
   ]
  },
  {
   "cell_type": "code",
   "execution_count": null,
   "metadata": {},
   "outputs": [],
   "source": [
    "# Daten Comsol für 0.1m\n",
    "df01m = pd.read_csv(\"Daten/Rohrisolation/Data_A1_Arbeitspunkt01.csv\",sep=\",\")"
   ]
  },
  {
   "cell_type": "code",
   "execution_count": null,
   "metadata": {},
   "outputs": [],
   "source": [
    "# Werte für den  Aussenradius 0.5m\n",
    "TA01m = df01m[\"T (degC)\"]\n",
    "x01m = len(TA01m)\n",
    "r01m = np.linspace(0.025,0.1,x01m)"
   ]
  },
  {
   "cell_type": "code",
   "execution_count": null,
   "metadata": {},
   "outputs": [],
   "source": [
    "plt.plot(r1m*100,T1m(r1m),label=\"T(r) AP=1m\")\n",
    "plt.plot(r1m*100,TA1m,label=\"T mitComsol ra=1m\",linestyle=\"--\")\n",
    "plt.plot(r05m*100,T5(r05m),label=\"T(r) AP=0.5m\")\n",
    "plt.plot(r05m*100,TA05m,label=\"T mit Comsol ra=0.5m\",linestyle=\"--\")\n",
    "plt.plot(r01m*100,T01(r01m),label=\"T(r) AP=0.1m\")\n",
    "plt.plot(r01m*100,TA01m,label=\"T mit Comsol ra=0.1m\",linestyle=\"--\")\n",
    "plt.title(\"Vergleich der Berechnung und Comsol\")\n",
    "plt.ylabel(\"Temperatur [°C]\")\n",
    "plt.xlabel(\"Aussenradius [cm]\")\n",
    "plt.grid()\n",
    "plt.legend()"
   ]
  },
  {
   "cell_type": "markdown",
   "metadata": {},
   "source": [
    "**Schlussfolgerung:**\n",
    "\n",
    "Auch mit Comsol lässt sich die Beobachtung, dass bei unterschiedlicher Isolationsdicke der gesamte Temperaturverlauf durch die Isolation geändert wird bestätigen."
   ]
  },
  {
   "cell_type": "markdown",
   "metadata": {},
   "source": [
    "##### Begründung dieser Beobachtung:"
   ]
  },
  {
   "cell_type": "markdown",
   "metadata": {},
   "source": [
    "**Wärmewiderstände:**\n",
    "$$\n",
    "R_{\\text{th}} =  \\frac{\\text{ln}(r_a/r_i)}{2 \\pi k l}\n",
    "$$\n",
    " \n",
    "$$\n",
    "R_s = \\frac{1}{2 \\pi r_a l h}\n",
    "$$\n",
    " \n",
    "Gesamtwärmewiderstand:\n",
    "$$\n",
    "R_g = R_{th} + R_s\n",
    "$$"
   ]
  },
  {
   "cell_type": "code",
   "execution_count": null,
   "metadata": {},
   "outputs": [],
   "source": [
    "ri = 0.025 # [m] Innendurchmesser\n",
    "h = 5 # [W/(m^2*K)] Wärmeübertragungskoeffizient\n",
    "Ti = 353.15 # [K] Randbedingung innen\n",
    "Ta = 293.15 # [K] Umgebungdtemperatur\n",
    "k = 0.5 # [W/(m*K)] Wärmeleitfähigkeit\n",
    "l = 1 # [m] Länge des Rohrs"
   ]
  },
  {
   "cell_type": "code",
   "execution_count": null,
   "metadata": {},
   "outputs": [],
   "source": [
    "rg = np.linspace(0.025,1,1000)"
   ]
  },
  {
   "cell_type": "code",
   "execution_count": null,
   "metadata": {},
   "outputs": [],
   "source": [
    "Rth = np.log(rg/ri)/(2*np.pi*k*l)\n",
    "Rs = 1/(2*np.pi*rg*l*h)\n",
    "Rg = Rth+Rs"
   ]
  },
  {
   "cell_type": "code",
   "execution_count": null,
   "metadata": {},
   "outputs": [],
   "source": [
    "plt.plot(rg*100,Rg)\n",
    "plt.title(\"Plot des Gesamtwiderstandes abhängig vom Aussenradius ra\")\n",
    "plt.ylabel(\"Gesamtwärmewiderstand [K/W]\")\n",
    "plt.xlabel(\"Aussenradius [cm]\")\n",
    "plt.grid()"
   ]
  },
  {
   "cell_type": "markdown",
   "metadata": {},
   "source": [
    "**Berechnung des Temperaturgradienten:**"
   ]
  },
  {
   "cell_type": "markdown",
   "metadata": {},
   "source": [
    "$$\n",
    "\\dot{Q}_{th} = \\frac{\\Delta T}{R_{th}} = \\frac{2 \\pi k l \\Delta{T}}{\\text{ln}(r_a/r_i)} = -k A \\frac{\\partial T}{\\partial r}\n",
    "$$\n",
    "\n",
    "Daraus folgt:\n",
    "$$\n",
    "\\frac{\\partial T}{\\partial r} = \\frac{T_i -T_a}{-\\text{ln}(r_a/r_i) \\cdot r}\n",
    "$$"
   ]
  },
  {
   "cell_type": "code",
   "execution_count": null,
   "metadata": {},
   "outputs": [],
   "source": [
    "r_agrad = [0.1, 0.25, 0.5, 0.75] # Aussenradius in [m]\n",
    "dT =[]\n",
    "rgrad = []\n",
    "dTfunc = lambda ra,r: 60/(-np.log(ra/ri)*r)\n",
    "for i in range(len(r_agrad)):\n",
    "\tr = np.linspace(0.0251,r_agrad[i],10000)\n",
    "\trgrad.append(r)\n",
    "\tdT.append(dTfunc(r_agrad[i],r))"
   ]
  },
  {
   "cell_type": "code",
   "execution_count": null,
   "metadata": {},
   "outputs": [],
   "source": [
    "plt.plot(rgrad[0]*100,dT[0],label=\"ra = 0.1m\")\n",
    "plt.plot(rgrad[1]*100,dT[1],label=\"ra = 0.25m\")\n",
    "plt.plot(rgrad[2]*100,dT[2],label=\"ra = 0.5m\")\n",
    "plt.plot(rgrad[3]*100,dT[3],label=\"ra = 0.75m\")\n",
    "plt.title(\"Plot der Temperaturgradienten abhängig vom Aussenradius ra\")\n",
    "plt.ylabel(\"Temperaturgradient [K/m]\")\n",
    "plt.xlabel(\"Aussenradius [cm]\")\n",
    "plt.grid()\n",
    "plt.legend()"
   ]
  },
  {
   "cell_type": "markdown",
   "metadata": {},
   "source": [
    "**Schlussfolgerung:**\n",
    "\n",
    "Durch die Bestimmung des Temperaturgradienten zeigt sich, dass der Faktor $\\text{ln}(r_a/r_i)$ bei gleichem $r$ unterschiedlich sein kann. Daraus ergibt sich, dass der Temperaturgradient an einem bestimmten Punkt nicht nur vom Ort des Punktes abhängt, sondern auch von der Gesamtdicke der Isolation.\n",
    "$$\n",
    "\\frac{\\partial T}{\\partial r} = \\frac{T_i -T_a}{-\\text{ln}(r_a/r_i) \\cdot r}\n",
    "$$\n"
   ]
  },
  {
   "cell_type": "markdown",
   "metadata": {},
   "source": [
    "## Aufgabe 2 Comsol 1D Axialsymmetrisch:"
   ]
  },
  {
   "cell_type": "code",
   "execution_count": null,
   "metadata": {},
   "outputs": [],
   "source": [
    "# Einlesen der Daten mit pandas\n",
    "df1 = pd.read_csv(\"Daten/Rohrisolation/Daten1D.csv\",sep=\";\")"
   ]
  },
  {
   "cell_type": "code",
   "execution_count": null,
   "metadata": {},
   "outputs": [],
   "source": [
    "# Plot des Temperaturverlaufes\n",
    "plt.plot(df1[\"R\"]*100,df1[\"T\"])\n",
    "plt.ylabel(\"Temperatur [°C]\")\n",
    "plt.xlabel(\"Radius [cm]\")\n",
    "plt.grid()\n",
    "plt.title(\"Temperaturverlauf 1D Axialsymmetrisch\")"
   ]
  },
  {
   "cell_type": "markdown",
   "metadata": {},
   "source": [
    "## Aufgabe 3 Comsol 2D:"
   ]
  },
  {
   "cell_type": "code",
   "execution_count": null,
   "metadata": {},
   "outputs": [],
   "source": [
    "df2 = pd.read_csv(\"Daten/Rohrisolation/Daten2D.csv\",sep=\";\")"
   ]
  },
  {
   "cell_type": "code",
   "execution_count": null,
   "metadata": {},
   "outputs": [],
   "source": [
    "plt.plot(df2[\"R\"]*100,df2[\"T\"])\n",
    "plt.grid()\n",
    "plt.ylabel(\"Temperatur [°C]\")\n",
    "plt.xlabel(\"Radius [cm]\")\n",
    "plt.title(\"Temperaturverlauf 2D entlang einem radial Strich\")"
   ]
  },
  {
   "cell_type": "markdown",
   "metadata": {},
   "source": [
    "## Aufgabe 4 Vergleich der drei Kurven:"
   ]
  },
  {
   "cell_type": "code",
   "execution_count": null,
   "metadata": {},
   "outputs": [],
   "source": [
    "r = np.linspace(0.025,0.045,1000)\n",
    "# Plot des Temperaturverlaufs der drei Bestimmungsweg zusammen\n",
    "plt.plot(df1[\"R\"]*100,df1[\"T\"],label=\"Temperaturverlauf 1D\")\n",
    "plt.plot(df2[\"R\"]*100,df2[\"T\"],label=\"Temperaturverlauf 2D\")\n",
    "plt.plot(r*100,T(r),linestyle=\"--\",label=\"Temperaturverlauf Handrechnung\")\n",
    "plt.grid()\n",
    "plt.ylabel(\"Temperatur [°C]\")\n",
    "plt.xlabel(\"Radius [cm]\")\n",
    "plt.title(\"Vergleich der drei Kurven\")\n",
    "plt.legend()"
   ]
  },
  {
   "cell_type": "code",
   "execution_count": null,
   "metadata": {},
   "outputs": [],
   "source": [
    "from sklearn.metrics import r2_score\n",
    "from scipy.interpolate import interp1d\n",
    "\n",
    "# Interpolieren von Daten1D auf die x-Werte von Daten2D\n",
    "interpolator = interp1d(df1[\"R\"], df1[\"T\"], kind='linear', fill_value='extrapolate')\n",
    "y1_interp = interpolator(df2[\"R\"])\n",
    "y1_interp = np.array(y1_interp)\n"
   ]
  },
  {
   "cell_type": "code",
   "execution_count": null,
   "metadata": {},
   "outputs": [],
   "source": [
    "# \n",
    "x1 = np.linspace(0.025,0.045,len(df1[\"R\"]))\n",
    "x2 = np.linspace(0.025,0.045,len(df2[\"R\"]))\n",
    "T1 = T(x1)\n",
    "T2 = T(x2)"
   ]
  },
  {
   "cell_type": "markdown",
   "metadata": {},
   "source": [
    "**Bestimmtheitsmass:**"
   ]
  },
  {
   "cell_type": "code",
   "execution_count": null,
   "metadata": {},
   "outputs": [],
   "source": [
    "# Vergleich 1D und 2D\n",
    "r21 = r2_score(y1_interp,df2[\"T\"])\n",
    "r21"
   ]
  },
  {
   "cell_type": "code",
   "execution_count": null,
   "metadata": {},
   "outputs": [],
   "source": [
    "# Vergleich Hand und 1D\n",
    "r22 = r2_score(T1,df1[\"T\"])\n",
    "r22"
   ]
  },
  {
   "cell_type": "code",
   "execution_count": null,
   "metadata": {},
   "outputs": [],
   "source": [
    "# Vergleich Hand und 2D\n",
    "r23 = r2_score(T2,df2[\"T\"])\n",
    "r23"
   ]
  },
  {
   "cell_type": "markdown",
   "metadata": {},
   "source": [
    "- Man erkennt, dass die einzelnen Linien nicht voneinander zu unterscheiden sind.\n",
    "- Das hohe Bestimmtheitsmass sagt aus, dass die Kurven einen sehr ähnlichen Verlauf haben."
   ]
  },
  {
   "cell_type": "markdown",
   "metadata": {},
   "source": [
    "**Es wurde dreimal mit unterschiedlichen Methoden ein nahezu identisches Resultat erreicht. Aufgrund dessen kann mit hoher Wahrscheinlichkeit gesagt werden, dass das erstellte Modell richtig bestimmt wurde. Dies muss aber nicht bedeuten, dass die Lösung das reale Problem richtig beschreiben würde.**"
   ]
  },
  {
   "cell_type": "markdown",
   "metadata": {},
   "source": [
    "## Aufgabe 5:"
   ]
  },
  {
   "cell_type": "markdown",
   "metadata": {},
   "source": [
    "### Herleitung des Wärmeflusses:\n",
    " \n",
    "#### Gegebene Skizze:\n",
    "Die Skizze zeigt ein System mit zwei Wärmewiderständen:\n",
    "- $R_{th}$: Wärmewiderstand des festen Materials\n",
    "- $R_s$: Wärmewiderstand der Oberfläche (Konvektion)\n",
    "\n",
    "![Alternativtext](./Bilder/Rohrisolation/Model.png)\n",
    "\n",
    "#### Quelle für das Bild: Heat Transfer J. P. Holman \n",
    "---\n",
    " \n",
    "#### Berechnungsart 1:\n",
    " \n",
    "##### Gesamtwärmewiderstand\n",
    "$$\n",
    "R_{\\text{th}} =  \\frac{\\text{ln}(r_a/r_i)}{2 \\pi k l}\n",
    "$$\n",
    " \n",
    "$$\n",
    "R_s = \\frac{1}{2 \\pi r_a l h}\n",
    "$$\n",
    " \n",
    "Gesamtwiderstand:\n",
    "$$\n",
    "R_g = R_{th} + R_s\n",
    "$$\n",
    "\n",
    "---\n",
    "##### Herleitung des Widerstands $R_{th}$ in $[\\frac{K}{W}]$\n",
    "- $\\dot{Q}_{th} =  -k \\cdot F \\cdot \\frac{\\partial T}{\\partial r} $ Wärmefluss $[W]$\n",
    "- $F(r) = 2 \\cdot \\pi \\cdot r \\cdot l$ $[m^2]$ Oberfläche durch die Wärme fliesst. \n",
    "Da der Wärmefluss konstant ist und die Oberfläche sich mit r ändert, muss die Temperaturänderung $\\frac{\\partial T}{\\partial r}$ von innen nach aussen mit $\\frac{1}{r}$ abnehmen.\n",
    "\n",
    "$$\\partial T = -\\frac{\\dot{Q}_{th}}{k\\cdot F}~\\partial r$$\n",
    "\n",
    "$$\\int_{T_i}^{T_a} 1 \\,dT  = \\frac{-\\dot{Q}_{th}}{k 2 \\pi l} \\int_{r_i}^{r_a} \\frac{1}{r} \\, dr~\\text{mit}~\\dot{Q} = \\text{const.}, k = \\text{const.}$$\n",
    "\n",
    "$$\\Delta T = \\frac{-\\dot{Q}_{th}}{2  \\pi k l} (\\text{ln}(r_a)-\\text{ln}(r_i))$$\n",
    "\n",
    "$$\n",
    "\\dot{Q}_{th} = -\\frac{2 \\pi k l \\Delta T}{\\ln\\left(\\frac{r_a}{r_i}\\right)}\n",
    "$$\n",
    "\n",
    "$$\n",
    "R_{th} = \\frac{-\\Delta T}{\\dot{Q}_{th}} = \\frac{\\text{ln}(r_a/r_i)}{2 \\pi k l}\n",
    "$$\n",
    "$R_{th}$ kann nicht negativ sein! Dies wird erfüllt da das Minus durch $\\Delta T = (T_a - T_i)$ wobei $T_i > T_a$ zu einem Plus wird.\n",
    "\n",
    "---\n",
    " \n",
    "##### Herleitung des Widerstands $R_s$ in $[\\frac{K}{W}]$\n",
    "- $A = 2 \\cdot \\pi \\cdot r_a \\cdot l$ $[m^2]$ Äussere Oberfläche an der Konvektion auftritt.\n",
    "$$\n",
    "\\dot{Q}_{s} = h A (T_i -T_a)  = 2 \\pi r_a l h \\Delta T\n",
    "$$\n",
    "$$\n",
    "R_s = \\frac{\\Delta T}{\\dot{Q}_{s}} = \\frac{1}{2 \\pi r_a l h}\n",
    "$$\n",
    "---\n",
    "##### Wärmestrom $\\dot{Q}$ in $[W]$\n",
    "$$\n",
    "\\dot{Q} = \\frac{\\Delta T}{R_g} = \\frac{2 \\pi l (T_i-T_a)}{\\frac{\\ln\\left(\\frac{r_a}{r_i}\\right)}{k}+\\frac{1}{r_a h}}\n",
    "$$\n",
    "\n",
    "---\n",
    "##### Wärmestrom pro Längeneinheit $\\dot{q}$ in $[\\frac{W}{m}]$\n",
    "$\\dot{Q}$ mit $\\frac{1}{l}$ multiplizieren, wobei $l=1~\\text{m}$\n",
    "$$\n",
    "\\dot{q} = \\frac{2 \\pi (T_i-T_a)}{\\frac{\\ln\\left(\\frac{r_a}{r_i}\\right)}{k}+\\frac{1}{r_a h}}\n",
    "$$\n"
   ]
  },
  {
   "cell_type": "markdown",
   "metadata": {},
   "source": [
    "#### Berechnungsart 2:\n",
    "\n",
    "Fouriesches Gesetz:\n",
    "\n",
    "- $\\dot{Q} =  -k \\cdot F \\cdot \\frac{\\partial T}{\\partial r} $ Wärmefluss $[W]$\n",
    "- $F(r) = 2 \\cdot \\pi \\cdot r \\cdot l$ $[m^2]$ Oberfläche durch die Wärme fliesst. \n",
    "- $\\Delta T$ ist hier nicht wie in der ersten Berechnungsart konstant, sondern abhängig von $r_a$\n",
    "\n",
    "Da der Wärmefluss konstant ist und die Oberfläche sich mit $r$ ändert, muss die Temperaturänderung $\\frac{\\partial T}{\\partial r}$ von innen nach aussen mit $\\frac{1}{r}$ abnehmen.\n",
    "\n",
    "$$\\partial T = \\frac{\\dot{Q}}{k\\cdot F}~\\partial r$$\n",
    "\n",
    "$$\\int_{T_{r_i}}^{T_{r_a}} 1 \\,dT  = \\frac{-\\dot{Q}}{k 2 \\pi l} \\int_{r_i}^{r_a} \\frac{1}{r} \\, dr~\\text{mit}~\\dot{Q} = \\text{const.}, k = \\text{const.}$$\n",
    "\n",
    "$$\\Delta T(r_a) = \\frac{\\dot{Q}}{2  \\pi k l} (\\text{ln}(r_a)-\\text{ln}(r_i))$$\n",
    "\n",
    "$$\n",
    "\\dot{Q} = \\frac{2 \\pi k l \\Delta T(r_a)}{\\ln\\left(\\frac{r_a}{r_i}\\right)}\n",
    "$$\n",
    "\n",
    "**Wärmefluss pro m:** (mit l = 1 m dividieren)\n",
    "$$\n",
    "\\dot{q} = \\frac{2 \\pi k \\Delta T(r_a)}{\\ln\\left(\\frac{r_a}{r_i}\\right)}\n",
    "$$\n",
    "$$\n",
    "\\Delta{T}(r) = T_{r_i}-T_{r} = + 353.15~\\text{K} - A \\cdot \\text{ln}(\\frac{r}{r_i})  - 353.15~\\text{K} =   -A \\cdot \\text{ln}(\\frac{r}{r_i}) = - \\frac{-h \\cdot 60}{h \\cdot \\text{ln}(\\frac{r}{r_i})+\\frac{k}{r}} \\cdot \\text{ln}(\\frac{r}{r_i})\n",
    "$$"
   ]
  },
  {
   "cell_type": "markdown",
   "metadata": {},
   "source": [
    "Wie so ist $\\dot{Q} = \\text{const.}$?\n",
    "- Wenn der Wärmefluss durch die einzelnen Zwischenebenen, wie unten in der Abbildung ersichtlich, nicht konstant wäre, so würde es zu einer Abkühlung oder Erwärmung einzelner Ebenen führen. Was bedeutet, das Problem wäre nicht mehr stationär."
   ]
  },
  {
   "cell_type": "markdown",
   "metadata": {},
   "source": [
    "![Alternativtext](./Bilder/Rohrisolation/Zwischeneben.png)\n",
    "\n",
    "[Quelle für das Bild:](https://www.tec-science.com/de/thermodynamik-waermelehre/waerme/temperaturverlaufe-und-warmestrome-durch-verschiedene-geometrien/)"
   ]
  },
  {
   "cell_type": "markdown",
   "metadata": {},
   "source": [
    "#### Analytisch:"
   ]
  },
  {
   "cell_type": "markdown",
   "metadata": {},
   "source": [
    "- $A = \\frac{-h \\cdot 60}{h \\cdot \\text{ln}(\\frac{r_a}{r_i})+\\frac{k}{r_a}}$\n",
    "\n",
    "- $ q =  \\frac{-k \\cdot A}{r_a}$\n",
    "\n",
    "- $\n",
    "\\dot{q} = \\frac{2 \\pi (T_i-T_a)}{\\frac{\\ln\\left(\\frac{r_a}{r_i}\\right)}{k}+\\frac{1}{r_a h}}\n",
    "$\n",
    "\n",
    "- $\\Delta{T_2} = T_{r_i}-T_{r} = + 353.15~\\text{K} - A \\cdot \\text{ln}(\\frac{r}{r_i})  - 353.15~\\text{K} =   -A \\cdot \\text{ln}(\\frac{r}{r_i}) $\n",
    "- $\\Delta{T_1} = T_{i}-T_{a} = + 353.15~\\text{K} - 293.15~\\text{K} = 60~\\text{K}$\n"
   ]
  },
  {
   "cell_type": "code",
   "execution_count": null,
   "metadata": {},
   "outputs": [],
   "source": [
    "# Funktion für die Berechnung von A für ein ra\n",
    "A_cal = lambda ra: (-h*60)/(h*np.log(ra/ri)+k/ra) \n",
    "\n",
    "# Funktion für die Berechnung der Wärmestromdichte mit ra und A\n",
    "q_cal = lambda A,ra: -k*A/ra\n",
    "\n",
    "# Wärmefluss pro Längeneinheit über Berechnungsart1:\n",
    "q_dot_cal = lambda ra: 2*np.pi*60/((np.log(ra/ri)/k)+(1/(ra*h)))\n",
    "\n",
    "# Wärmefluss pro Längeneinheit über Berechnungsart 2:\n",
    "q_dot_cal2 = lambda delT,ra: 2*np.pi*k*delT/((np.log(ra/ri)))\n",
    "\n",
    "# Berechnug der Temperaturdifferenz\n",
    "delT_cal = lambda A,ra: -A*np.log(ra/ri)\n",
    "\n",
    "# ra von 0.0251 m bis 0.2 m\n",
    "ra = np.linspace(0.0251,0.2,1000)\n",
    "\n",
    "# Bestimmung der Werte des A Parameters\n",
    "A = A_cal(ra)\n",
    "\n",
    "# Berechnung DeltaT\n",
    "delT1 = delT_cal(A,ra)\n",
    "\n",
    "# Berechnung Wärmefluss pro Längeneinheit\n",
    "q_dot = q_dot_cal(ra)\n",
    "q_dot1 = q_dot_cal2(delT1,ra)"
   ]
  },
  {
   "cell_type": "code",
   "execution_count": null,
   "metadata": {},
   "outputs": [],
   "source": [
    "plt.plot(ra*100,q_dot,\"*\",label= \"Wärmefluss mit Berechnungsart 1\")\n",
    "plt.plot(ra*100,q_dot1,\"--\", label = \"Wärmefluss mit Berechnungsart 2\")\n",
    "plt.ylabel(\"Wärmefluss [W/m]\")\n",
    "plt.xlabel(\"Aussenradius ra [cm] \")\n",
    "plt.title(\"Wärmefluss abhängig von der Isolationsdicke\")\n",
    "plt.legend()\n",
    "plt.grid()"
   ]
  },
  {
   "cell_type": "markdown",
   "metadata": {},
   "source": [
    "## Aufgabe 6:"
   ]
  },
  {
   "cell_type": "markdown",
   "metadata": {},
   "source": [
    "**Biot-Zahl:**\n",
    "- Die Biot-Zahl gibt bei Wärmetransport durch die Oberfläche das Verhältnis des Wärmeleitwiderstandes des Festkörpers zum Wärmeübergangswiderstand des umgebenden Mediums an. \n",
    "- Bi << 1: $\\Delta T$ gross bei Konvektion;\n",
    "- Bi ≈ 1: keine dominante Wärmeübertragung;\n",
    "- Bi >> 1: $\\Delta T$ gross bei Wärmeleitung.\n",
    "\n",
    "Dies bedeutet nicht, dass im Fall, in welchem die Bi = 1.5 ist, man sich sicher sein kann, dass überhaupt die Wärmeleitung der Konvektion überwiegt. Es hängt davon ab, wie die charakteristische Länge gewählt wurde. Die charakteristische Länge ist ein heuristischer Wert. Heuristische Werte sind Parameter, die mit begrenztem Wissen geschätzt wurden, um wahrscheinliche Aussagen zu Systemen treffen zu können. \n",
    "\n",
    "Was bedeutet dies? \n",
    "- Es bedeutet, dass es nicht eine richtige charakteristische Länge gibt, sondern viele mögliche. \n",
    "\n",
    "Wie geht man nun mit der Biot-Zahl um?\n",
    "- Die Beschreibung der Wärmeleitung ist nicht ganz so einfach, wie oben angegeben. Es kann z. B., wenn die charakteristische Länge konservativ gewählt wurde und $ Bi = 15$ ist, kann mit grosser Sicherheit gesagt werden, dass $\\Delta T$ bei der Wärmeleitung grösser ist als bei der Konvektion."
   ]
  },
  {
   "cell_type": "markdown",
   "metadata": {},
   "source": [
    "Eine Art, um die charakteristische Länge zu bestimmen.\n",
    "- $L = \\frac{\\text{Volumen}}{\\text{Oberfläche, durch die Wärme strömt}} = \\frac{r^2 \\cdot \\pi \\cdot l}{2 \\cdot r\\cdot \\pi \\cdot l } = \\frac{r}{2}$\n",
    "\n",
    "**Berechnungsart 1:** Für die Randoberfläche\n",
    "- $Bi = \\frac{h \\cdot L}{k} = \\frac{h \\cdot \\frac{r_a}{2}}{k}$\n",
    "\n",
    "Die oben berechnete charakteristische Länge wäre eine Möglichkeit. Es wird jedoch die Definition aus der Aufgabenstellung verwendet.\n",
    "- $Bi = \\frac{h \\cdot L}{k} = \\frac{h \\cdot r_a}{k}$ \n",
    " $$\\dot{q}= \\frac{\\Delta T \\cdot \\pi \\cdot h \\cdot r_a}{\\text{ln}(r_a/r_i) \\cdot Bi}$$"
   ]
  },
  {
   "cell_type": "markdown",
   "metadata": {},
   "source": [
    "**Bestimmung der Charakteristischen Länge:**\n"
   ]
  },
  {
   "cell_type": "code",
   "execution_count": null,
   "metadata": {},
   "outputs": [],
   "source": [
    "# ra von 0.0251 m bis 1m\n",
    "ra2 = np.linspace(0.0251,1,10000)\n",
    "\n",
    "# Charakteristische Länge (Maximale Temperaturdifferenz)\n",
    "L = ra2\n",
    "\n",
    "# Berechnung der Biot-Zahl mit Formel aus Aufgabenstellung\n",
    "Bi_cal = lambda L: h*(L)/k\n",
    "Bi = Bi_cal(L)\n",
    "Bi[-1]"
   ]
  },
  {
   "cell_type": "code",
   "execution_count": null,
   "metadata": {},
   "outputs": [],
   "source": [
    "plt.plot(ra2*100,Bi)\n",
    "plt.ylabel(\"Biot Zahl\")\n",
    "plt.xlabel(\"Aussenradius ra [cm] \")\n",
    "plt.title(\"Biot-Zahl abhängig von ra\")\n",
    "plt.grid()"
   ]
  },
  {
   "cell_type": "code",
   "execution_count": null,
   "metadata": {},
   "outputs": [],
   "source": [
    "A2 = A_cal(ra2)\n",
    "delT3 = delT_cal(A2,ra2)"
   ]
  },
  {
   "cell_type": "code",
   "execution_count": null,
   "metadata": {},
   "outputs": [],
   "source": [
    "# Wärmefluss pro Längeneinheit mit Biot-Zahl\n",
    "q_dot_cal2 = lambda delT,ra,Bi: (2*delT*np.pi*ra*h)/(np.log(ra/ri)*Bi)\n",
    "q_dot2 = q_dot_cal2(delT3,ra2,Bi)"
   ]
  },
  {
   "cell_type": "code",
   "execution_count": null,
   "metadata": {},
   "outputs": [],
   "source": [
    "plt.plot(ra2*100,q_dot2)\n",
    "plt.ylabel(\"Wärmefluss [W/m]\")\n",
    "plt.xlabel(\"Aussenradius ra [cm] \")\n",
    "plt.title(\"Wärmefluss abhängig von der Isolationsdicke mit Biot-Zahl\")\n",
    "plt.grid()"
   ]
  },
  {
   "cell_type": "markdown",
   "metadata": {},
   "source": [
    "## Aufgabe 7:"
   ]
  },
  {
   "cell_type": "code",
   "execution_count": null,
   "metadata": {},
   "outputs": [],
   "source": [
    "# Bestimmen des Maximums mit Aufgabe 5:\n",
    "maxQ1 = np.max(q_dot1)\n",
    "index1 = np.argmax(q_dot1)\n",
    "print(maxQ1,len(q_dot1),index1)"
   ]
  },
  {
   "cell_type": "code",
   "execution_count": null,
   "metadata": {},
   "outputs": [],
   "source": [
    "x1 = index1/len(q_dot1)*(ra.max()-ra.min())*100+2.51\n",
    "print(f\"Das Maximum ist bei {round(x1,2)} cm.\")"
   ]
  },
  {
   "cell_type": "code",
   "execution_count": null,
   "metadata": {},
   "outputs": [],
   "source": [
    "# Bestimmen des Maximums mit Aufgabe 6:\n",
    "maxQ2 = np.max(q_dot2)\n",
    "index2 = np.argmax(q_dot2)\n",
    "print(maxQ2,len(q_dot2),index2)"
   ]
  },
  {
   "cell_type": "code",
   "execution_count": null,
   "metadata": {},
   "outputs": [],
   "source": [
    "x2 = (index2)/len(q_dot2)*(ra2.max()-ra2.min())*100+2.51\n",
    "print(f\"Das Maximum ist bei {round(x2,2)} cm.\")"
   ]
  },
  {
   "cell_type": "code",
   "execution_count": null,
   "metadata": {},
   "outputs": [],
   "source": [
    "plt.plot(ra2*100,q_dot2)\n",
    "plt.plot(x2,maxQ2,\"*\")\n",
    "plt.ylabel(\"Wärmefluss [W/m]\")\n",
    "plt.xlabel(\"Aussenradius ra [cm] \")\n",
    "plt.title(\"Bestimmung maximaler Wärmefluss\")\n",
    "plt.grid()"
   ]
  },
  {
   "cell_type": "markdown",
   "metadata": {},
   "source": [
    "- Der maximale Wärmefluss mit 79 $[\\frac{W}{m}]$  bei $r_a = 10~\\text{[cm]}$ "
   ]
  },
  {
   "cell_type": "markdown",
   "metadata": {},
   "source": [
    "#### Überprüfung:\n",
    "Wieso entsteht dieser kritische Radius?:\n",
    "- Je dicker die Isolation, desto besser ist die Isolation, aber auch die Oberfläche wächst mit der Dicke der Isolation damit geht mehr Wärme durch Konvektion verloren.\n",
    "\n",
    "**Gesamtwärmewiderstand:**\n",
    "$$R = (\\frac{\\text{ln}(r_a/r_i)}{2 \\pi L k}+\\frac{1}{2 \\pi r_a L h})$$ \n",
    "\n",
    "**Extremstelle aufsuchen:**\n",
    "$$\\frac{\\partial R}{\\partial r_a} = 0$$\n",
    "$$r_{krit} = \\frac{k}{h} = 0.1~\\text{m} = 10~\\text{cm} $$\n",
    "\n",
    "**Hinreichende Bedingung:**\n",
    "$$\\frac{\\partial^2 R}{\\partial r_a^2} = \\frac{-1}{2 \\pi l r_a^2 k} + \\frac{2}{2 \\pi l r_a^3 h} $$\n",
    "$$\\frac{\\partial^2 R}{\\partial r_a^2}(r_{krit}) > 0$$\n",
    "Bei $r_{krit}$ ist der Gesamtwärmewiderstand minimal damit ist der Wärmefluss maximal.\n",
    "\n",
    "[Quelle der Formel](https://n.ethz.ch/~jgeurts/dateien/zusammenfassungen/Thermodynamik_II_Zusammenfassung.pdf)"
   ]
  },
  {
   "cell_type": "markdown",
   "metadata": {},
   "source": [
    "**Schlussfolgerung:**\n",
    "\n",
    "Da der kritische Radius (Radius mit maximalem Wärmefluss) nur von der Wärmeleitfähigkeit und dem Wärmeübergangskoeffizienten abhängig ist, sollte jedes Team einen $r_{krit}$ von $0.1~\\text{m}$ erhalten. \n",
    "\n",
    "Bedeutet der grosse $r_{krit}$ nun, dass Isolation keinen Sinn ergibt?\n",
    "\n",
    "Nein! Der Wert von $h$ ist sehr tief und der Wert von $k$ ist sehr hoch gewählt."
   ]
  },
  {
   "cell_type": "code",
   "execution_count": null,
   "metadata": {},
   "outputs": [],
   "source": [
    "ra = np.linspace(0.0251,0.5)\n",
    "ks = 0.04 # Wärmeleitfähigkeit realisitsche Isolation Glaswolle [W/(mK)]\n",
    "print(f\"Der kritischer Radius mit Glaswolle entspricht {ks/h*100} cm\")"
   ]
  },
  {
   "cell_type": "code",
   "execution_count": null,
   "metadata": {},
   "outputs": [],
   "source": [
    "q_dot_cals = lambda ra: 2*np.pi*60/((np.log(ra/ri)/ks)+(1/(ra*h)))\n",
    "q_dots = q_dot_cals(ra)"
   ]
  },
  {
   "cell_type": "code",
   "execution_count": null,
   "metadata": {},
   "outputs": [],
   "source": [
    "plt.plot(ra*100,q_dots)\n",
    "plt.ylabel(\"Wärmefluss [W/m]\")\n",
    "plt.xlabel(\"Aussenradius ra [cm] \")\n",
    "plt.title(\"Wärmefluss abhängig von der Isolationsdicke bei k = 0.04\")\n",
    "plt.grid()"
   ]
  },
  {
   "cell_type": "code",
   "execution_count": null,
   "metadata": {},
   "outputs": [],
   "source": [
    "ktest = [0.04,0.06,0.1,0.2,0.5,0.75,1]\n",
    "q_dottest = [2*np.pi*60/((np.log(ra/ri)/ktest[i])+(1/(ra*h))) for i in range(len(ktest))]"
   ]
  },
  {
   "cell_type": "code",
   "execution_count": null,
   "metadata": {},
   "outputs": [],
   "source": [
    "plt.plot(ra*100,q_dottest[0],label=\"Wärmefluss mit k = 0.04 W/(mK)\") # Glaswolle\n",
    "plt.plot(ra*100,q_dottest[1],label=\"Wärmefluss mit k = 0.06 W/(mK)\") # Schaumgummi\n",
    "plt.plot(ra*100,q_dottest[2],label=\"Wärmefluss mit k = 0.1 W/(mK)\") # Dachpappe \n",
    "plt.plot(ra*100,q_dottest[3],label=\"Wärmefluss mit k = 0.2 W/(mK)\") # Gipskartonplatten\n",
    "plt.plot(ra*100,q_dottest[4],label=\"Wärmefluss mit k = 0.5 W/(mK)\") # Kalkstein \n",
    "plt.plot(ra*100,q_dottest[5],label=\"Wärmefluss mit k = 0.75 W/(mK)\") # Erdreich 20% Feucht\n",
    "plt.plot(ra*100,q_dottest[6],label=\"Wärmefluss mit k = 1 W/(mK)\") # Keramik\n",
    "plt.ylabel(\"Wärmefluss [W/m]\")\n",
    "plt.xlabel(\"Aussenradius ra [cm] \")\n",
    "plt.title(\"Wärmefluss abhängig von der Isolationsdicke und Wärmeleitfähigkeit\")\n",
    "plt.xlim(2.0, 100) \n",
    "plt.legend(loc=\"center right\", bbox_to_anchor=(1.1, 0.5))\n",
    "plt.grid()"
   ]
  },
  {
   "cell_type": "markdown",
   "metadata": {},
   "source": [
    "Bei freier Konvektion lässt sich der Wärmeübergangskoeffizient für Luft näherungsweise mit der Formel:\n",
    "\n",
    "Geschwindigkeit $v$ in $\\frac{\\text{m}}{\\text{s}}$\n",
    "$$\n",
    "h = 12 \\cdot \\sqrt{v}+2\n",
    "$$\n",
    "bestimmen.\n",
    "\n",
    "[Quelle der Formel](https://de.wikipedia.org/wiki/W%C3%A4rme%C3%BCbergangskoeffizient)\n",
    "\n",
    "[Quelle freie Konvektion](https://help.solidworks.com/2015/english/SolidWorks/cworks/c_convection_heat_coefficient.htm?format=P&value=)"
   ]
  },
  {
   "cell_type": "code",
   "execution_count": null,
   "metadata": {},
   "outputs": [],
   "source": [
    "v = ((5-3)/12)**2\n",
    "print(f\"Die Geschwindigkeit für h der Aufgabe beträgt {round(v,3)} m/s = {round(v*3.6,3)} km/h\")"
   ]
  },
  {
   "cell_type": "markdown",
   "metadata": {},
   "source": [
    "Eine Geschwindigkeit von $0.1~\\frac{\\text{km}}{\\text{h}}$ wird als Windstill betrachtet. "
   ]
  },
  {
   "cell_type": "markdown",
   "metadata": {},
   "source": [
    "[Quelle der Windgeschwindigkeit](https://de.wikipedia.org/wiki/Windgeschwindigkeit)"
   ]
  },
  {
   "cell_type": "markdown",
   "metadata": {},
   "source": [
    "Bei erzwungener Konvektion z.B. durch Wind befinden sich der Wärmeübertragungskoeffizient im Bereich $20-300~\\frac{\\text{W}}{\\text{m}^2 \\text{K}}$\n",
    "\n",
    "Wenn $k = 0.04~\\frac{\\text{W}}{\\text{mK}}$ und $h = 30~\\frac{\\text{W}}{\\text{m}^2 \\text{K}}$, dann ist $r_{krit} = 0.13~\\text{cm}$ "
   ]
  },
  {
   "cell_type": "markdown",
   "metadata": {},
   "source": [
    "Ein guter Wärmedämmstoff hat eine Wärmeleitfähigkeit zwischen $0.025-0.04~\\frac{\\text{W}}{\\text{mK}}$. In der Praxis werden Rohre häufig mit Materialien wie Glaswolle oder Schaumgummi isoliert, da diese eine geringe Wärmeleitfähigkeit aufweisen und somit eine effektive Isolierung gewährleisten. Ein Material mit einer Wärmeleitfähigkeit von etwa $0.5~\\frac{\\text{W}}{\\text{mK}}$, wie sie beispielsweise bei Kalkstein zu finden ist, wäre im Vergleich weniger effektiv, da der kritische Radius deutlich grösser ausfällt. Eine effiziente Isolierung wird erreicht, wenn der kritische Radius klein bleibt, was bei Materialien mit niedriger Wärmeleitfähigkeit der Fall ist.\n",
    "\n",
    "[Quelle der Wärmeleitfähigkeiten](https://www.schweizer-fn.de/stoff/wleit_isolierung/wleit_isolierung.php)"
   ]
  },
  {
   "cell_type": "markdown",
   "metadata": {},
   "source": [
    "**Rückrechnung zur Überprüfung des Wärmeflusses:**\n",
    "- Formel siehe Aufgabe 1 oder 5."
   ]
  },
  {
   "cell_type": "code",
   "execution_count": null,
   "metadata": {},
   "outputs": [],
   "source": [
    "rkrit = 0.1 # kritischer Widerstand [m]"
   ]
  },
  {
   "cell_type": "code",
   "execution_count": null,
   "metadata": {},
   "outputs": [],
   "source": [
    "Rth = np.log(rkrit/ri)/(2*np.pi*k*l)\n",
    "Rs = 1/(2*np.pi*rkrit*l*h)\n",
    "Rkrit = Rth+Rs\n",
    "print(Rkrit)"
   ]
  },
  {
   "cell_type": "code",
   "execution_count": null,
   "metadata": {},
   "outputs": [],
   "source": [
    "print(f\"Der minimale Gesamtwärmewiderstand beträgt {round(Rkrit,3)} K/W\")"
   ]
  },
  {
   "cell_type": "markdown",
   "metadata": {},
   "source": [
    "Mit der Formel aus der Aufgabe 5 für den Wärmefluss erhälten man:\n",
    "$$\n",
    "\\dot{q} = \\frac{\\Delta T}{R_g l} =  \\frac{2 \\pi (T_i-T_a)}{\\frac{\\ln\\left(\\frac{r_a}{r_i}\\right)}{k}+\\frac{1}{r_a h}} \n",
    "$$\n"
   ]
  },
  {
   "cell_type": "code",
   "execution_count": null,
   "metadata": {},
   "outputs": [],
   "source": [
    "q_dot7 = (Ti-Ta)/(Rkrit)\n",
    "print(f\"Der maximale Wärmefluss beträgt {round(q_dot7,2)} W/m\")"
   ]
  },
  {
   "cell_type": "markdown",
   "metadata": {},
   "source": [
    "Die Werte dieser Berechnung und der Berechnung mit der Biot-Zahl stimmen überein."
   ]
  },
  {
   "cell_type": "markdown",
   "metadata": {},
   "source": [
    "Der einzige Faktor, der einen Unterschied beim maximalen Wärmefluss zwischen den Teams erzeugt, ist der unterschiedliche Innenradius."
   ]
  },
  {
   "cell_type": "markdown",
   "metadata": {},
   "source": [
    "**Werte der anderen Teams nach dieser These:**\n",
    "- Team 1: $r_i = 0.021~\\text{m}$\n",
    "- Team 3: $r_i = 0.029~\\text{m}$"
   ]
  },
  {
   "cell_type": "code",
   "execution_count": null,
   "metadata": {},
   "outputs": [],
   "source": [
    "ri1 = 0.021 \n",
    "ri3 = 0.029"
   ]
  },
  {
   "cell_type": "code",
   "execution_count": null,
   "metadata": {},
   "outputs": [],
   "source": [
    "# Team 1\n",
    "Rth1 = np.log(rkrit/ri1)/(2*np.pi*k*l)\n",
    "Rs1 = 1/(2*np.pi*rkrit*l*h)\n",
    "Rkrit1 = Rth1+Rs1\n",
    "print(f\"Der minimale Wärmewiderstand von Team 1 entspricht {round(Rkrit1,3)} K/W\")\n",
    "\n",
    "# Wärmefluss\n",
    "q_dot71 = (Ti-Ta)/(Rkrit1)\n",
    "print(f\"Der maximale Wärmefluss für das Team 1 beträgt {round(q_dot71,2)} W/m\")"
   ]
  },
  {
   "cell_type": "code",
   "execution_count": null,
   "metadata": {},
   "outputs": [],
   "source": [
    "# Team 3\n",
    "Rth3 = np.log(rkrit/ri3)/(2*np.pi*k*l)\n",
    "Rs3 = 1/(2*np.pi*rkrit*l*h)\n",
    "Rkrit3 = Rth3+Rs3\n",
    "print(f\"Der minimale Wärmewiderstand von Team 3 entspricht {round(Rkrit3,3)} K/W\")\t\t\n",
    "\n",
    "# Wärmefluss \n",
    "q_dot73 = (Ti-Ta)/(Rkrit3)\n",
    "print(f\"Der maximale Wärmefluss für das Team 3 beträgt {round(q_dot73,2)} W/m\")"
   ]
  },
  {
   "cell_type": "markdown",
   "metadata": {},
   "source": [
    "----\n",
    "\n",
    "# 2. Durchflussmessung"
   ]
  },
  {
   "cell_type": "markdown",
   "metadata": {},
   "source": [
    "In dieser Untersuchung wird ein mikrofluidisches System zur indirekten Durchflussmessung analysiert. Ziel ist es, den Durchfluss eines Fluids basierend auf der Wärmeübertragung zwischen einem beheizten Rohr und dem Fluidstrom zu bestimmen. Die Grundlage dieser Methode ist die physikalische Abhängigkeit der Temperaturverteilung entlang des Rohrs von der Durchflussrate. Ein höherer Durchfluss führt zu einer stärkeren Wärmeabfuhr, während bei einem geringeren Durchfluss die Temperatur des Rohrs stärker ansteigt. \n",
    "Das Fluid, hier Wasser, fliesst mit unterschiedlichen Durchflussraten durch das Rohr, wobei die Strömungsgeschwindigkeit im Bereich von 0.1 m/s bis 1.0 m/s variiert. Zwei Temperatursensoren an der Aussenwand des Rohres messen die Temperatur vor und nach der beheizten Zone.\n",
    "\n",
    "<a id=\"zurueck\"></a>"
   ]
  },
  {
   "cell_type": "markdown",
   "metadata": {},
   "source": [
    "### 2.1 Methodik\n",
    "Aus der Aufgabenstellung ergibt sich die Möglichkeit, eine Vielzahl von Simulationen abzubilden. Variierende Parameter sind:\n",
    "\n",
    "- Strömungsprofil: Kolbenströmung oder Parabelströmung\n",
    "- Rohrmaterial: Aluminium oder Glas\n",
    "- Materialkombination: Sensoren und Wärmequelle aus demselben Material wie das Rohr oder aus unterschiedlichen Materialien\n",
    "- Geometrie der Wärmequelle und Sensoren: Ring oder Kreis\n",
    "\n",
    "Ring (2D-Axialsymmetrisch oder 3D)\n",
    "- Als ein auf der Aussenwand des Rohrs angebrachtes System \n",
    "- Als vollständiger Ersatz der Rohrwand an dieser Stelle\n",
    " \n",
    "Kreisförmig:\n",
    "- Als äussere, auf der Oberfläche wirkende Wärmequelle\n",
    "- Als fest verbaute Heizquelle, die durch den Rohrmantel reicht\n",
    "- Als Stab, der durch das gesamte Rohr (einschliesslich des Fluids) reicht\n",
    "\n",
    "<div style=\"display: flex; justify-content: space-between;\">\n",
    "  <img src=\"./Bilder/Durchflussmessung/3D_Ring/Geometrie_Ring.png\" alt=\"Geometrie Ring\" style=\"width: 30%;\"/>\n",
    "  <img src=\"./Bilder/Durchflussmessung/3D_Punkt/Geometrie_Punkt.png\" alt=\"Geometrie Punkt\" style=\"width: 30%;\"/>\n",
    "  <img src=\"./Bilder/Durchflussmessung/3D_Strömung/Geometrie_Stab.png\" alt=\"Geometrie Stab\" style=\"width: 30%;\"/>\n",
    "</div>\n",
    "\n",
    "insgesamt sind somit 56 verschieden Simulationen möglich (Tabelle im Anhang)\n",
    "\n",
    "Für die Analyse im Bericht wurden insbesondere die praxisnahen Fälle priorisiert. Dabei wurden ein parabolisches Strömungsprofil, eine Materialkombination mit Sensoren und Wärmequelle aus demselben Material wie das Rohr sowie Konfigurationen, bei denen die Wärmequelle und Sensoren nur an der Oberfläche wirken, berücksichtigt, da dies den typischen technischen Anwendungen entspricht. Der Fouks liegt dabei auf dem Rohr aus Glas da in Mikrofluidische Systeme diese häufig für präzise Messungen in biologischen, chemischen und technischen Anwendungen eingesetzt werden. Glasrohre sind das bevorzugte Material, da sie chemisch stabil, optisch transparent und wärmeisolierend sind. Aluminiumrohre dienen als Vergleichsmaterial, um den Effekt eines gut leitenden Rohrs auf die Wärmeübertragung und die Messgenauigkeit zu untersuchen.\n",
    "\n",
    "Die Wärmeleistung von 10.000 W/m² bzw. von 0.05 W wurde gewählt, um einen ausreichenden Temperaturunterschiede für präzise Messungen zu erzeugen, ohne unphysikalisch hohe Temperaturen im System zu riskieren. Dieser Wert stellt einen realistischen Kompromiss dar."
   ]
  },
  {
   "cell_type": "markdown",
   "metadata": {},
   "source": [
    "### 2.2 Simulationen\n",
    "Die Ergebnisse werden geordnet nach den simulierten Szenarien präsentiert: 2D, 3D-Ring und 3D-Kreis. Für jede Simulation werden die Temperaturverteilungen und die Sensorwerte in Abhängigkeit von der Geschwindigkeit dargestellt. Der Vergleich zwischen Glas- und Aluminiumrohren wird auch immer aufgeführt."
   ]
  },
  {
   "cell_type": "markdown",
   "metadata": {},
   "source": [
    "#### Axialsymmetrische 2D-Simulation\n",
    "Die Verwendung einer flächenbezogenen Wärmequelle (W/m²) in der 2D- und 3D-Ring-Simulation ergibt sich aus der Geometrie der Wärmequelle. Diese stellt eine gleichmssig auf der Oberfläche des Rohrs verteilte Heizquelle dar, wie sie bei Heizfolien oder ähnlichen Anwendungen vorkommt. Die Modellierung als Flächenquelle ermöglicht es, die Wärmeverteilung entlang der Rohrwand realistisch darzustellen und entspricht typischen technischen Anwendungen, bei denen die Wärme über eine grössere Fläche abgegeben wird.\n",
    "\n",
    "Die Temperaturverteilungen entlang des Rohres für die 2D-Simulation verdeutlichen die Abhängigkeit von der Strömungsgeschwindigkeit. Mit steigender Strömungsgeschwindigkeit wird mehr Wärme durch das Fluid abgeführt, was zu einer effektiveren Kühlung des Rohres führt.\n",
    "Die Wärmeübertragung ist bei Glasrohren, aufgrund der niedrigeren Wärmeleitfähigkeit, lokaler begrenzt. Aluminiumrohre hingegen zeigen eine stärkere seitliche Wärmeverteilung, wodurch die maximalen Temperaturen im Vergleich niedriger sind.\n",
    "\n",
    "![Alu_v_01](./Bilder/Durchflussmessung/2D/Alu_01.png)\n",
    "![Alu_v_1](./Bilder/Durchflussmessung/2D/Alu_1.png)\n",
    "![Glas_v_01](./Bilder/Durchflussmessung/2D/Glas_01.png)\n",
    "![Glas_v_1](./Bilder/Durchflussmessung/2D/Glas_1.png)\n",
    "\n",
    "<!-- <div style=\"display: flex; justify-content: space-between;\">\n",
    "  <img src=\"./Bilder/Durchflussmessung/2D/Alu_01.png\" alt=\"Alu_v_01\" style=\"width: 50%;\"/>\n",
    "  <img src=\"./Bilder/Durchflussmessung/2D/Glas_01.png\" alt=\"Glas_v_01\" style=\"width: 50%;\"/>\n",
    "</div>\n",
    "<div style=\"display: flex; justify-content: space-between;\">\n",
    "  <img src=\"./Bilder/Durchflussmessung/2D/Alu_1.png\" alt=\"Alu_v_01\" style=\"width: 50%;\"/>\n",
    "  <img src=\"./Bilder/Durchflussmessung/2D/Glas_1.png\" alt=\"Glas_v_01\" style=\"width: 50%;\"/>\n",
    "</div> -->"
   ]
  },
  {
   "cell_type": "code",
   "execution_count": null,
   "metadata": {},
   "outputs": [],
   "source": [
    "def plot_temperature_vs_velocity(file_path):\n",
    "    # load data\n",
    "    data = pd.read_csv(file_path, sep=r'\\s{2,}', engine='python', skiprows=4)\n",
    "    data.columns = [\n",
    "        \"Material_Index\", \"wassergeschwindigkeit\", \n",
    "        \"Temp_Alu_Sensor_1\", \"Temp_Alu_Sensor_2\",\n",
    "        \"Temp_Glas_Sensor_1\", \"Temp_Glas_Sensor_2\"\n",
    "    ]\n",
    "\n",
    "    # Filter data\n",
    "    data_alu = data[data[\"Material_Index\"] == 1]\n",
    "    data_Glas = data[data[\"Material_Index\"] == 2]\n",
    "\n",
    "    # Plot\n",
    "    plt.figure(figsize=(12, 6))\n",
    "    plt.plot(data_alu[\"wassergeschwindigkeit\"], data_alu[\"Temp_Alu_Sensor_1\"], label='Aluminium Sensor 1', color=\"darkgreen\")\n",
    "    plt.plot(data_alu[\"wassergeschwindigkeit\"], data_alu[\"Temp_Alu_Sensor_2\"], label='Aluminium Sensor 2', color=\"green\")\n",
    "    plt.plot(data_Glas[\"wassergeschwindigkeit\"], data_Glas[\"Temp_Glas_Sensor_1\"], label='Glas Sensor 1', color=\"darkblue\")\n",
    "    plt.plot(data_Glas[\"wassergeschwindigkeit\"], data_Glas[\"Temp_Glas_Sensor_2\"], label='Glas Sensor 2', color=\"blue\")\n",
    "\n",
    "    # Add labels, legend, and grid\n",
    "    plt.xlabel('Strömungsgeschwindigkeit (m/s)')\n",
    "    plt.xlim([0.1,1.0])\n",
    "    plt.ylabel('Temperature (°C)')\n",
    "    plt.title('Temperature und Strömungsgeschwindigkeit für Aluminium und Glas')\n",
    "    plt.legend()\n",
    "    plt.grid()\n",
    "\n",
    "plot_temperature_vs_velocity('./Daten/Durchflussmessung/2D/Probe_Tabel.txt')\n",
    "plt.title(\"Temperature und Strömungsgeschwindigkeit für Aluminium und Glas (2D)\")\n",
    "plt.show()"
   ]
  },
  {
   "cell_type": "markdown",
   "metadata": {},
   "source": [
    "Der Plot zeigt, dass die Temperaturen bei Aluminium nahezu parallel verlaufen, was auf eine gleichmässige Wärmeverteilung hinweist. Bei Glas hingegen fällt die Temperatur bei einem Sensor stärker ab, was auf die geringere Wärmeleitfähigkeit und die lokal begrenzte Wärmeübertragung zurückzuführen ist. Der Sensor vor der Wärmequelle erhitzt sich auch bei niedrigen Strömungsgeschwindigkeiten überhaupt nicht und bleibt konstant bei 20 °C"
   ]
  },
  {
   "cell_type": "markdown",
   "metadata": {},
   "source": [
    "#### 3D-Ring-Simulation\n",
    "Die 3D-Ring-Simulation besitzt grossen Praxisbezug, da sie die typische Konfiguration eines Glasrohrs mit einer umlaufenden Heizfolie nachbildet. Diese Variante ermöglicht eine gleichmässige Erwärmung des Fluids und wird häufig in mikrofluidischen Anwendungen eingesetzt, bei denen eine präzise Temperaturkontrolle und Homogenität der Erwärmung von entscheidender Bedeutung sind.\n",
    "\n",
    "![Alu.gif](./Bilder/Durchflussmessung/3D_Ring/Alu.gif)\n",
    "![Glas.gif](./Bilder/Durchflussmessung/3D_Ring/Glas.gif)\n",
    "![Alu_S.gif](./Bilder/Durchflussmessung/3D_Ring/Alu_S.gif)\n",
    "![Glas_S.gif](./Bilder/Durchflussmessung/3D_Ring/Glas_S.gif)\n",
    "\n",
    "<div style=\"display: flex; justify-content: space-between;\">\n",
    "  <img src=\"./Bilder/Durchflussmessung/3D_Ring/Alu_01_nah.png\" alt=\"Alu_01_nah\" style=\"width: 25%;\"/>\n",
    "  <img src=\"./Bilder/Durchflussmessung/3D_Ring/Alu_1_nah.png\" alt=\"Alu_1_nah\" style=\"width: 25%;\"/>\n",
    "  <img src=\"./Bilder/Durchflussmessung/3D_Ring/Glas_01_nah.png\" alt=\"Glas_01_nah\" style=\"width: 25%;\"/>\n",
    "  <img src=\"./Bilder/Durchflussmessung/3D_Ring/Glas_1_nah.png\" alt=\"Glas_1_nah\" style=\"width: 25%;\"/>\n",
    "</div>\n"
   ]
  },
  {
   "cell_type": "code",
   "execution_count": null,
   "metadata": {},
   "outputs": [],
   "source": [
    "plot_temperature_vs_velocity('./Daten/Durchflussmessung/3D_Ring/Probe_Tabel.txt')\n",
    "plt.title(\"Temperature und Strömungsgeschwindigkeit für Aluminium und Glas (3D-Ring)\")\n",
    "plt.show()"
   ]
  },
  {
   "cell_type": "markdown",
   "metadata": {},
   "source": [
    "In der 3D-Ring-Simulation nähern sich die Temperaturen der beiden Glas-Sensoren schneller an als in der 2D-Simulation. Dies könnte darauf hindeuten, dass die ringförmige Wärmequelle das Fluid homogener erwärmt, was bei höheren Strömungsgeschwindigkeiten zu einer stärkeren Reduktion des Temperaturunterschieds zwischen den Sensoren führt.\n",
    "\n",
    "Alternativ könnten jedoch Abweichungen in der Simulation diese Unterschiede erklären. Mögliche Ursachen dafür sind eine unterschiedliche Netzauflösung, numerische Fehler, veränderte Randbedingungen oder eine ungenaue Modellierung der Wärmequelle in der 3D-Simulation."
   ]
  },
  {
   "cell_type": "markdown",
   "metadata": {},
   "source": [
    "#### 3D-Kreis-Simulation\n",
    "In der 3D-Kreis-Simulation wurde eine punktuelle Wärmequelle in Watt (W) verwendet, da diese Konfiguration eine lokal konzentrierte Heizquelle darstellt. Dies simuliert reale Anwendungen wie Heizstäbe oder Laser, bei denen die Wärmeabgabe auf einen kleinen Bereich fokussiert ist. Die Modellierung als punktuelle Wärmequelle ermöglicht es, die intensiven lokalen Erwärmungseffekte präzise abzubilden, die für diese Geometrie charakteristisch sind.\n",
    "\n",
    "Im Vergleich zur 3D-Ring-Simulation zeigt diese Konfiguration eine deutlich stärkere lokale Erwärmung, da die Wärmequelle punktueller und konzentrierter wirkt. Dies führt insbesondere bei Glasrohren zu hohen lokalen Temperaturen und stärkeren Temperaturunterschieden zwischen den Sensoren, was die Empfindlichkeit der Messung auf Durchflussänderungen erhöht. Während die maximale Temperatur in der 3D-Ring-Simulation bei 24,7 °C lag, erreicht sie hier 390 °C.\n",
    "\n",
    "Bei Glasrohren verstärken die geringere Wärmeleitfähigkeit und die punktuelle Wärmequelle diese lokalen Effekte. Aluminiumrohre hingegen zeigen eine gleichmässigere Wärmeverteilung, wodurch die Temperaturunterschiede zwischen den Sensoren kleiner bleiben.\n",
    "\n",
    "![Alu.gif](./Bilder/Durchflussmessung/3D_Punkt/Alu.gif)\n",
    "![Glas.gif](./Bilder/Durchflussmessung/3D_Punkt/Glas.gif)\n",
    "\n",
    "Das folgende Bild zeigt die Simulation mit einer vollständig turbulenten Strömung, die idealisiert als Kolbenströmung modelliert wurde. Auffällig ist hierbei, dass das Glasrohr noch stärker gekühlt wird. Das liegt daran, dass bei der Kolbenströmung die Strömungsgeschwindigkeit überall konstant bleibt auch direkt an der Rohrwand, dadurch kann mehr Wärme (10K) abgeführt werden.\n",
    "\n",
    "![Glas.gif](./Bilder/Durchflussmessung/3D_Punkt/Kolbenströmung.png)"
   ]
  },
  {
   "cell_type": "code",
   "execution_count": null,
   "metadata": {},
   "outputs": [],
   "source": [
    "plot_temperature_vs_velocity('./Daten/Durchflussmessung/3D_Punkt/Probe_Tabel.txt')\n",
    "plt.title(\"Temperature und Strömungsgeschwindigkeit für Aluminium und Glas (3D-Kreis)\")\n",
    "plt.show()"
   ]
  },
  {
   "cell_type": "markdown",
   "metadata": {},
   "source": [
    "Auffällig an diesem Plot ist, dass sich die Temperaturverläufe der Sensoren 2 für die verschiedenen Materialien nicht mehr kreuzen, wie es in den vorherigen Beispielen der Fall war. Dies liegt an der punktförmigen Wärmequelle, die die Unterschiede in der Wärmeleitung der Materialien stärker betont. \n",
    "\n",
    "Die punktförmige Wärmequelle macht diese Konfiguration besonders empfindlich für die Durchflussmessung, da die Temperaturdifferenzen zwischen den Sensoren stärker auf Änderungen der Strömungsgeschwindigkeit reagieren. Allerdings kann die punktuelle Erwärmung zu höheren lokalen Temperaturschwankungen führen, die eine präzise Messung unter bestimmten Bedingungen erschweren könnten. Ferner ist zu beachten das punktuell sehr hohe Temperaturen (390°C) entstehen während das Fluid nur eine geringe erwärmung aufweist.\n"
   ]
  },
  {
   "cell_type": "markdown",
   "metadata": {},
   "source": [
    "### 2.3 Herausforderungen der Durchflussmessung\n",
    "\n",
    "Die Simulationen zeigen, dass die Oberflächentemperaturen des Rohrs für die indirekte Durchflussmessung genutzt werden können. Allerdings ist die exakte Berechnung des Durchflusses herausfordernd, da nur die Temperatur an der Rohrwand gemessen wird. Für eine präzise Bestimmung müssen mehrere zusätzliche Faktoren berücksichtigt werden:\n",
    "\n",
    "- Die Erwärmung des Rohrs, die sowohl radial als auch axial erfolgt und von der Wärmeleitfähigkeit sowie der Dicke des Rohrmaterials abhängt.\n",
    "- Der Wärmeübergang zwischen der Rohrwand und dem Fluid, der durch den Wärmeübergangskoeffizienten bestimmt wird.\n",
    "- Der thermische Widerstand des Rohrs, der die Effizienz der Wärmeübertragung zwischen der Wärmequelle, dem Rohr und dem Fluid beeinflusst.\n",
    "\n",
    "Um systematische Fehler zu minimieren, wird die Temperatur meist differenziell gemessen, also als Temperaturdifferenz zwischen zwei Sensoren vor und nach der Wärmequelle. Diese Methode reduziert absolute Messfehler und ermöglicht eine bessere Korrelation zwischen der Temperaturdifferenz und der Strömungsgeschwindigkeit.\n",
    "\n",
    "Trotzdem bleiben diese komplexen Zusammenhänge eine Herausforderung, weshalb die Bestimmung des Durchflusses allein auf Basis der gemessenen Oberflächentemperatur schwierig ist."
   ]
  },
  {
   "cell_type": "markdown",
   "metadata": {},
   "source": [
    "### 2.4 Fazit\n",
    "\n",
    "Die Simulationen verdeutlichen die Abhängigkeit der Wärmeübertragung von Strömungsgeschwindigkeit, Material und Geometrie der Wärmequelle. Die 2D bzw. 3D-Ring-Simulation zeigen eine gleichmässige Wärmeverteilung und eine hohe Praxisnähe. Die 3D-Kreis-Simulation zeigt die stärkste lokale Erwärmung und eine hohe Empfindlichkeit gegenüber Durchflussänderungen. In der Praxis wird jedoch häufiger die ringförmige Wärmequelle eingesetzt, da sie einfacher zu realisieren ist und stabilere Messungen ermöglicht.\n",
    "\n",
    "Glasrohre eignen sich aufgrund ihrer geringeren Wärmeleitfähigkeit besonders für die lokale Messung von Durchflussänderungen, da die Temperaturdifferenz zwischen den Sensoren deutlicher und stärker lokalisiert bleibt.  Aluminium wird bevorzugt eingesetzt, wenn das Fluid erwärmt werden soll, ist jedoch in der Mikrofluidik aufgrund mangelnder chemischer Stabilität oft nicht realisierbar."
   ]
  },
  {
   "cell_type": "markdown",
   "metadata": {},
   "source": [
    "---\n",
    "\n",
    "## Anhang\n",
    "\n",
    "### Strömungssimulation\n",
    "\n",
    "In dieser zusätzlichen Simulation wurde die Wärmeübertragung mit der Strömungssimulation gekoppelt, um genauere Ergebnisse zu erzielen. Dabei wurden die Sensoren und die Wärmequellen als durchgehende Stäbe modelliert, die sowohl die Rohrwand als auch das Fluid durchdringen. Die Wärmequelle wird vollständig erwärmt, nicht nur an der Rohroberfläche, da sie einen Heizstab repräsentiert. Die Simulation wurde mit dem algebraischen $ y^+ $ -Strömungsmodell  und einem groben Netz, um die Berechnungszeit zu reduzieren, durchgeführt. Dies wird insbesondere vor der Wärmequelle sichtbar, wo die Strömungsdetails nicht ausreichend aufgelöst sind. Trotz der Vereinfachungen zeigt die gekoppelte Simulation eine bessere Übereinstimmung im Temperaturverlauf mit der physikalischen Realität als das Modell ohne Strömung. Auffällig ist jedoch, dass die berechneten Temperaturen stellenweise unter 20 °C fallen, was physikalisch nicht plausibel ist und möglicherweise auf numerische Fehler oder ungeeignete Randbedingungen hinweist. Die dargestellten Bilder wechseln sich von links nach rechts ab und vergleichen die gekoppelte Strömungssimulation mit der Version ohne Strömungskopplung.\n",
    "<div style=\"display: flex; justify-content: space-between;\">\n",
    "  <img src=\"./Bilder/Durchflussmessung/3D_Strömung/Alu_01_Heat.png\" alt=\"Alu_01_Heat\" style=\"width: 25%;\"/>\n",
    "  <img src=\"./Bilder/Durchflussmessung/3D_Strömung/Alu_01_Heat_oS.png\" alt=\"Alu_01_Heat_oS\" style=\"width: 25%;\"/>\n",
    "  <img src=\"./Bilder/Durchflussmessung/3D_Strömung/Glas_01_Heat.png\" alt=\"Glas_01_Heat\" style=\"width: 25%;\"/>\n",
    "  <img src=\"./Bilder/Durchflussmessung/3D_Strömung/Glas_01_Heat_oS.png\" alt=\"Glas_01_Heat_oS\" style=\"width: 25%;\"/>\n",
    "</div>"
   ]
  },
  {
   "cell_type": "markdown",
   "metadata": {},
   "source": [
    "\n",
    "Bei der Höchstgeschwindigkeit von 1 m/s entstehen kleinere Wirbel direkt hinter den Sensoren und der Wärmequelle, die jedoch sehr schnell zerfallen. Dies könnte auf die laminar dominierte Strömung oder die verwendete RANS-Methode zurückzuführen sein.\n",
    "\n",
    "<div style=\"display: flex; justify-content: space-between;\">\n",
    "  <img src=\"./Bilder/Durchflussmessung/3D_Strömung/Alu_1.png\" alt=\"Alu_1\" style=\"width: 50%;\"/>\n",
    "  <img src=\"./Bilder/Durchflussmessung/3D_Strömung/Glas_1.png\" alt=\"Glas_1\" style=\"width: 50%;\"/>\n",
    "</div>\n",
    "\n"
   ]
  },
  {
   "cell_type": "markdown",
   "metadata": {},
   "source": [
    "Deutlich erkennbar ist die laminare Strömungscharakteristik mit einer hohen Geschwindigkeit im zentralen Bereich des Rohres und abnehmender Geschwindigkeit zur Wand hin, was dem typischen parabolischen Profil einer laminaren Rohrströmung entspricht. Die maximale Geschwindigkeit liegt bei etwa 1,78 m/s, was das theoretische Verhältnis zur mittleren Strömungsgeschwindigkeit in laminaren Strömungen bestätigt ($v_\\text{max} \\approx 2 \\cdot v_\\text{mittel}$). Turbulenzen oder signifikante Abweichungen sind in diesem Bild nicht sichtbar, was sowohl auf die Stabilität der Strömung als auch auf die niedrige Reynolds-Zahl in diesem Szenario hinweist. Die niedrige Reynolds-Zahl $(Re = \\frac{\\rho \\cdot v \\cdot D}{\\mu} = 1000)$ bestätigt die laminare Strömung, da sie in diesem Bereich keine Übergänge zur Turbulenz zulässt. Dies ist typisch für Anwendungen mit kleinen Rohrdurchmessern und moderaten Geschwindigkeiten, wie sie in mikrofluidischen Systemen auftreten. Die Verwendung der RANS-Methode könnte zusätzlich dazu beitragen, kleinere Strukturen wie feine Wirbel zu glätten, was ebenfalls zur sichtbaren Stabilität der Strömung beiträgt.\n",
    "\n",
    "<div style=\"display: flex; justify-content: space-between;\">\n",
    "  <img src=\"./Bilder/Durchflussmessung/3D_Strömung/Velocity.png\" alt=\"Velocity\" style=\"width: 75%;\"/>\n",
    "</div>"
   ]
  },
  {
   "cell_type": "code",
   "execution_count": null,
   "metadata": {},
   "outputs": [],
   "source": [
    "plot_temperature_vs_velocity('./Daten/Durchflussmessung/3D_Strömung/Probe_Tabel_oStrömung.txt')\n",
    "plt.title(\"Temperature und Strömungsgeschwindigkeit für Aluminium und Glas ohne Strömung\")\n",
    "plot_temperature_vs_velocity('./Daten/Durchflussmessung/3D_Strömung/Probe_Tabel_Strömung.txt')\n",
    "plt.title(\"Temperature und Strömungsgeschwindigkeit für Aluminium und Glas mit Strömung\")\n",
    "\n",
    "# Daten aus den Dateien laden\n",
    "daten_ohne_stroemung = pd.read_csv(\"./Daten/Durchflussmessung/3D_Strömung/Probe_Tabel_oStrömung.txt\", sep=r'\\s{2,}', engine='python', skiprows=4)\n",
    "daten_ohne_stroemung.columns = [\n",
    "    \"Material_Index\", \"Wasser_Geschwindigkeit\", \n",
    "    \"Temp_Alu_Sensor_1\", \"Temp_Alu_Sensor_2\",\n",
    "    \"Temp_Glas_Sensor_1\", \"Temp_Glas_Sensor_2\"\n",
    "]\n",
    "\n",
    "daten_mit_stroemung = pd.read_csv(\"./Daten/Durchflussmessung/3D_Strömung/Probe_Tabel_Strömung.txt\", sep=r'\\s{2,}', engine='python', skiprows=4)\n",
    "daten_mit_stroemung.columns = [\n",
    "    \"Material_Index\", \"Wasser_Geschwindigkeit\", \n",
    "    \"Temp_Alu_Sensor_1\", \"Temp_Alu_Sensor_2\",\n",
    "    \"Temp_Glas_Sensor_1\", \"Temp_Glas_Sensor_2\"\n",
    "]\n",
    "\n",
    "# Daten für Aluminium und Glas filtern\n",
    "daten_mit_stroemung_alu = daten_mit_stroemung[daten_mit_stroemung[\"Material_Index\"] == 1]\n",
    "daten_ohne_stroemung_alu = daten_ohne_stroemung[daten_ohne_stroemung[\"Material_Index\"] == 1]\n",
    "\n",
    "daten_mit_stroemung_glas = daten_mit_stroemung[daten_mit_stroemung[\"Material_Index\"] == 2]\n",
    "daten_ohne_stroemung_glas = daten_ohne_stroemung[daten_ohne_stroemung[\"Material_Index\"] == 2]\n",
    "\n",
    "# Nur gemeinsame Geschwindigkeitswerte vergleichen\n",
    "gemeinsame_geschwindigkeit_alu = set(daten_mit_stroemung_alu[\"Wasser_Geschwindigkeit\"]) & set(daten_ohne_stroemung_alu[\"Wasser_Geschwindigkeit\"])\n",
    "gemeinsame_geschwindigkeit_glas = set(daten_mit_stroemung_glas[\"Wasser_Geschwindigkeit\"]) & set(daten_ohne_stroemung_glas[\"Wasser_Geschwindigkeit\"])\n",
    "\n",
    "# DataFrames nach gemeinsamen Geschwindigkeiten filtern\n",
    "daten_mit_stroemung_alu = daten_mit_stroemung_alu[daten_mit_stroemung_alu[\"Wasser_Geschwindigkeit\"].isin(gemeinsame_geschwindigkeit_alu)]\n",
    "daten_ohne_stroemung_alu = daten_ohne_stroemung_alu[daten_ohne_stroemung_alu[\"Wasser_Geschwindigkeit\"].isin(gemeinsame_geschwindigkeit_alu)]\n",
    "\n",
    "daten_mit_stroemung_glas = daten_mit_stroemung_glas[daten_mit_stroemung_glas[\"Wasser_Geschwindigkeit\"].isin(gemeinsame_geschwindigkeit_glas)]\n",
    "daten_ohne_stroemung_glas = daten_ohne_stroemung_glas[daten_ohne_stroemung_glas[\"Wasser_Geschwindigkeit\"].isin(gemeinsame_geschwindigkeit_glas)]\n",
    "\n",
    "# Arrays neu sortieren nach Geschwindigkeit\n",
    "daten_mit_stroemung_alu = daten_mit_stroemung_alu.sort_values(\"Wasser_Geschwindigkeit\")\n",
    "daten_ohne_stroemung_alu = daten_ohne_stroemung_alu.sort_values(\"Wasser_Geschwindigkeit\")\n",
    "\n",
    "daten_mit_stroemung_glas = daten_mit_stroemung_glas.sort_values(\"Wasser_Geschwindigkeit\")\n",
    "daten_ohne_stroemung_glas = daten_ohne_stroemung_glas.sort_values(\"Wasser_Geschwindigkeit\")\n",
    "\n",
    "# Absoluten und relativen Fehler berechnen (Aluminium Sensor 2)\n",
    "abs_fehler_alu_sensor_2 = abs(daten_mit_stroemung_alu[\"Temp_Alu_Sensor_2\"].values - daten_ohne_stroemung_alu[\"Temp_Alu_Sensor_2\"].values)\n",
    "rel_fehler_alu_sensor_2 = abs_fehler_alu_sensor_2 / daten_mit_stroemung_alu[\"Temp_Alu_Sensor_2\"].values\n",
    "\n",
    "# Absoluten und relativen Fehler berechnen (Glas Sensor 2)\n",
    "abs_fehler_glas_sensor_2 = abs(daten_mit_stroemung_glas[\"Temp_Glas_Sensor_2\"].values - daten_ohne_stroemung_glas[\"Temp_Glas_Sensor_2\"].values)\n",
    "rel_fehler_glas_sensor_2 = abs_fehler_glas_sensor_2 / daten_mit_stroemung_glas[\"Temp_Glas_Sensor_2\"].values\n",
    "\n",
    "# Fehler plotten\n",
    "plt.figure(figsize=(12, 6))\n",
    "\n",
    "# Absoluter Fehler\n",
    "plt.subplot(1, 2, 1)\n",
    "plt.plot(daten_mit_stroemung_alu[\"Wasser_Geschwindigkeit\"], abs_fehler_alu_sensor_2, label='Aluminium Sensor 2', color=\"green\")\n",
    "plt.plot(daten_mit_stroemung_glas[\"Wasser_Geschwindigkeit\"], abs_fehler_glas_sensor_2, label='Glas Sensor 2', color=\"blue\")\n",
    "plt.xlabel('Strömungsgeschwindigkeit (m/s)')\n",
    "plt.ylabel('Absoluter Fehler (°C)')\n",
    "plt.title('Absoluter Fehler zwischen den Simulationen')\n",
    "plt.legend()\n",
    "plt.grid()\n",
    "\n",
    "# Relativer Fehler\n",
    "plt.subplot(1, 2, 2)\n",
    "plt.plot(daten_mit_stroemung_alu[\"Wasser_Geschwindigkeit\"], rel_fehler_alu_sensor_2, label='Aluminium Sensor 2', color=\"green\")\n",
    "plt.plot(daten_mit_stroemung_glas[\"Wasser_Geschwindigkeit\"], rel_fehler_glas_sensor_2, label='Glas Sensor 2', color=\"blue\")\n",
    "plt.xlabel('Strömungsgeschwindigkeit (m/s)')\n",
    "plt.ylabel('Relativer Fehler')\n",
    "plt.title('Relativer Fehler zwischen den Simulationen')\n",
    "plt.legend()\n",
    "plt.grid()\n",
    "\n",
    "plt.tight_layout()\n",
    "plt.show()"
   ]
  },
  {
   "cell_type": "markdown",
   "metadata": {},
   "source": [
    "Der Fehlerplot zeigt, dass die fehlende Strömungskopplung bei Glasrohren deutlich grössere Abweichungen verursacht als bei Aluminium. Insbesondere bei niedrigen Geschwindigkeiten ist der Fehler bei Glas signifikant, da die geringere Wärmeleitfähigkeit des Materials die Strömungseffekte stärker betont. Aluminium zeigt hingegen konstante und kleinere Abweichungen, da die Wärme effizienter verteilt wird.\n",
    "\n",
    "Es sei jedoch dahingestellt, ob die Strömungssimulation in ihrer aktuellen Form korrekt aufgesetzt wurde, da mögliche numerische oder modellbedingte Fehler nicht ausgeschlossen werden können."
   ]
  },
  {
   "cell_type": "markdown",
   "metadata": {},
   "source": [
    "### Tabelle der Simulationen\n",
    "\n",
    "| Nr. | Strömungsprofil    | Rohrmaterial | Materialkombination | Geometrie     | Konfiguration   |   | Nr. | Strömungsprofil    | Rohrmaterial | Materialkombination | Geometrie     | Konfiguration   |\n",
    "|-----|--------------------|--------------|---------------------|---------------|-----------------|---|-----|--------------------|--------------|---------------------|---------------|-----------------|\n",
    "| 1   | Kolbenströmung     | Aluminium    | Gleich              | Ring in 2D    | Oberfläche      |   | 29  | Parabelströmung    | Aluminium    | Gleich              | Ring in 2D    | Oberfläche      |\n",
    "| 2   | Kolbenströmung     | Aluminium    | Gleich              | Ring in 2D    | Rohrwand        |   | 30  | Parabelströmung    | Aluminium    | Gleich              | Ring in 2D    | Rohrwand        |\n",
    "| 3   | Kolbenströmung     | Aluminium    | Gleich              | Ring in 3D    | Oberfläche      |   | 31  | Parabelströmung    | Aluminium    | Gleich              | Ring in 3D    | Oberfläche      |\n",
    "| 4   | Kolbenströmung     | Aluminium    | Gleich              | Ring in 3D    | Rohrwand        |   | 32  | Parabelströmung    | Aluminium    | Gleich              | Ring in 3D    | Rohrwand        |\n",
    "| 5   | Kolbenströmung     | Aluminium    | Gleich              | Kreisförmig   | Oberfläche      |   | 33  | Parabelströmung    | Aluminium    | Gleich              | Kreisförmig   | Oberfläche      |\n",
    "| 6   | Kolbenströmung     | Aluminium    | Gleich              | Kreisförmig   | Rohrwand        |   | 34  | Parabelströmung    | Aluminium    | Gleich              | Kreisförmig   | Rohrwand        |\n",
    "| 7   | Kolbenströmung     | Aluminium    | Gleich              | Kreisförmig   | Stab            |   | 35  | Parabelströmung    | Aluminium    | Gleich              | Kreisförmig   | Stab            |\n",
    "| 8   | Kolbenströmung     | Glas         | Gleich              | Ring in 2D    | Oberfläche      |   | 36  | Parabelströmung    | Glas         | Gleich              | Ring in 2D    | Oberfläche      |\n",
    "| 9   | Kolbenströmung     | Glas         | Gleich              | Ring in 2D    | Rohrwand        |   | 37  | Parabelströmung    | Glas         | Gleich              | Ring in 2D    | Rohrwand        |\n",
    "| 10  | Kolbenströmung     | Glas         | Gleich              | Ring in 3D    | Oberfläche      |   | 38  | Parabelströmung    | Glas         | Gleich              | Ring in 3D    | Oberfläche      |\n",
    "| 11  | Kolbenströmung     | Glas         | Gleich              | Ring in 3D    | Rohrwand        |   | 39  | Parabelströmung    | Glas         | Gleich              | Ring in 3D    | Rohrwand        |\n",
    "| 12  | Kolbenströmung     | Glas         | Gleich              | Kreisförmig   | Oberfläche      |   | 40  | Parabelströmung    | Glas         | Gleich              | Kreisförmig   | Oberfläche      |\n",
    "| 13  | Kolbenströmung     | Glas         | Gleich              | Kreisförmig   | Rohrwand        |   | 41  | Parabelströmung    | Glas         | Gleich              | Kreisförmig   | Rohrwand        |\n",
    "| 14  | Kolbenströmung     | Glas         | Gleich              | Kreisförmig   | Stab            |   | 42  | Parabelströmung    | Glas         | Gleich              | Kreisförmig   | Stab            |\n",
    "| 15  | Kolbenströmung     | Aluminium    | Verschieden         | Ring in 2D    | Oberfläche      |   | 43  | Parabelströmung    | Aluminium    | Verschieden         | Ring in 2D    | Oberfläche      |\n",
    "| 16  | Kolbenströmung     | Aluminium    | Verschieden         | Ring in 2D    | Rohrwand        |   | 44  | Parabelströmung    | Aluminium    | Verschieden         | Ring in 2D    | Rohrwand        |\n",
    "| 17  | Kolbenströmung     | Aluminium    | Verschieden         | Ring in 3D    | Oberfläche      |   | 45  | Parabelströmung    | Aluminium    | Verschieden         | Ring in 3D    | Oberfläche      |\n",
    "| 18  | Kolbenströmung     | Aluminium    | Verschieden         | Ring in 3D    | Rohrwand        |   | 46  | Parabelströmung    | Aluminium    | Verschieden         | Ring in 3D    | Rohrwand        |\n",
    "| 19  | Kolbenströmung     | Aluminium    | Verschieden         | Kreisförmig   | Oberfläche      |   | 47  | Parabelströmung    | Aluminium    | Verschieden         | Kreisförmig   | Oberfläche      |\n",
    "| 20  | Kolbenströmung     | Aluminium    | Verschieden         | Kreisförmig   | Rohrwand        |   | 48  | Parabelströmung    | Aluminium    | Verschieden         | Kreisförmig   | Rohrwand        |\n",
    "| 21  | Kolbenströmung     | Aluminium    | Verschieden         | Kreisförmig   | Stab            |   | 49  | Parabelströmung    | Aluminium    | Verschieden         | Kreisförmig   | Stab            |\n",
    "| 22  | Kolbenströmung     | Glas         | Verschieden         | Ring in 2D    | Oberfläche      |   | 50  | Parabelströmung    | Glas         | Verschieden         | Ring in 2D    | Oberfläche      |\n",
    "| 23  | Kolbenströmung     | Glas         | Verschieden         | Ring in 2D    | Rohrwand        |   | 51  | Parabelströmung    | Glas         | Verschieden         | Ring in 2D    | Rohrwand        |\n",
    "| 24  | Kolbenströmung     | Glas         | Verschieden         | Ring in 3D    | Oberfläche      |   | 52  | Parabelströmung    | Glas         | Verschieden         | Ring in 3D    | Oberfläche      |\n",
    "| 25  | Kolbenströmung     | Glas         | Verschieden         | Ring in 3D    | Rohrwand        |   | 53  | Parabelströmung    | Glas         | Verschieden         | Ring in 3D    | Rohrwand        |\n",
    "| 26  | Kolbenströmung     | Glas         | Verschieden         | Kreisförmig   | Oberfläche      |   | 54  | Parabelströmung    | Glas         | Verschieden         | Kreisförmig   | Oberfläche      |\n",
    "| 27  | Kolbenströmung     | Glas         | Verschieden         | Kreisförmig   | Rohrwand        |   | 55  | Parabelströmung    | Glas         | Verschieden         | Kreisförmig   | Rohrwand        |\n",
    "| 28  | Kolbenströmung     | Glas         | Verschieden         | Kreisförmig   | Stab            |   | 56  | Parabelströmung    | Glas         | Verschieden         | Kreisförmig   | Stab            |\n",
    "\n",
    "**Materialkombination**\n",
    "- Gleich: Sensoren und Wärmequelle bestehen aus dem gleichen Material wie das Rohr.\n",
    "- Verschieden: Sensoren und Wärmequelle bestehen aus einem anderen Material als das Rohr.\n",
    "\n",
    "**Konfiguration**\n",
    "- Oberfläche: Wärmequelle an der Aussenseite des Rohrs.\n",
    "- Rohrwand: Wärmequelle ersetzt oder durchdringt die Rohrwand.\n",
    "- Stab: Wärmequelle verläuft durch das gesamte Rohr (inkl. Fluid)."
   ]
  }
 ],
 "metadata": {
  "kernelspec": {
   "display_name": "Python 3",
   "language": "python",
   "name": "python3"
  },
  "language_info": {
   "codemirror_mode": {
    "name": "ipython",
    "version": 3
   },
   "file_extension": ".py",
   "mimetype": "text/x-python",
   "name": "python",
   "nbconvert_exporter": "python",
   "pygments_lexer": "ipython3",
   "version": "3.12.7"
  }
 },
 "nbformat": 4,
 "nbformat_minor": 2
}
